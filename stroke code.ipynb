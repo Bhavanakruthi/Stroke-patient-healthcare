{
 "cells": [
  {
   "cell_type": "markdown",
   "metadata": {
    "id": "tWAV0A5NKmWJ"
   },
   "source": [
    "## **Stroke Patient Healthcare Using Machine Learning Models**\n",
    "\n",
    "**Problem Statement:**\n",
    "\n",
    "Develop a machine learning model to predict stroke occurrence using patient\n",
    " health data, identifying key risk factors to enable early detection and improve\n",
    " healthcare decision-making\n",
    "\n",
    "### Import libraries and load the dataset"
   ]
  },
  {
   "cell_type": "code",
   "execution_count": null,
   "metadata": {
    "id": "9Oi6US-IF7pV"
   },
   "outputs": [],
   "source": [
    "import numpy as np\n",
    "import pandas as pd\n",
    "import matplotlib.pyplot as plt\n",
    "import seaborn as sns\n",
    "from sklearn.model_selection import train_test_split\n",
    "from sklearn.metrics import accuracy_score, root_mean_squared_error, confusion_matrix, ConfusionMatrixDisplay"
   ]
  },
  {
   "cell_type": "code",
   "execution_count": 54,
   "metadata": {
    "id": "W9tcQyTkF_ig"
   },
   "outputs": [],
   "source": [
    "df=pd.read_csv(\"https://drive.google.com/uc?export=download&id=1XyhVIZaKYZczlM2alun_fofilqTBq_9c\")"
   ]
  },
  {
   "cell_type": "code",
   "execution_count": 55,
   "metadata": {
    "colab": {
     "base_uri": "https://localhost:8080/",
     "height": 206
    },
    "id": "9JgXOpGkk8uk",
    "outputId": "8dc3754b-a3cc-41c4-a95c-24279eaa04d9"
   },
   "outputs": [
    {
     "data": {
      "text/html": [
       "<div>\n",
       "<style scoped>\n",
       "    .dataframe tbody tr th:only-of-type {\n",
       "        vertical-align: middle;\n",
       "    }\n",
       "\n",
       "    .dataframe tbody tr th {\n",
       "        vertical-align: top;\n",
       "    }\n",
       "\n",
       "    .dataframe thead th {\n",
       "        text-align: right;\n",
       "    }\n",
       "</style>\n",
       "<table border=\"1\" class=\"dataframe\">\n",
       "  <thead>\n",
       "    <tr style=\"text-align: right;\">\n",
       "      <th></th>\n",
       "      <th>id</th>\n",
       "      <th>gender</th>\n",
       "      <th>age</th>\n",
       "      <th>hypertension</th>\n",
       "      <th>heart_disease</th>\n",
       "      <th>ever_married</th>\n",
       "      <th>work_type</th>\n",
       "      <th>Residence_type</th>\n",
       "      <th>avg_glucose_level</th>\n",
       "      <th>bmi</th>\n",
       "      <th>smoking_status</th>\n",
       "      <th>stroke</th>\n",
       "    </tr>\n",
       "  </thead>\n",
       "  <tbody>\n",
       "    <tr>\n",
       "      <th>0</th>\n",
       "      <td>9046</td>\n",
       "      <td>Male</td>\n",
       "      <td>67.0</td>\n",
       "      <td>0</td>\n",
       "      <td>1</td>\n",
       "      <td>Yes</td>\n",
       "      <td>Private</td>\n",
       "      <td>Urban</td>\n",
       "      <td>228.69</td>\n",
       "      <td>36.6</td>\n",
       "      <td>formerly smoked</td>\n",
       "      <td>1</td>\n",
       "    </tr>\n",
       "    <tr>\n",
       "      <th>1</th>\n",
       "      <td>51676</td>\n",
       "      <td>Female</td>\n",
       "      <td>61.0</td>\n",
       "      <td>0</td>\n",
       "      <td>0</td>\n",
       "      <td>Yes</td>\n",
       "      <td>Self-employed</td>\n",
       "      <td>Rural</td>\n",
       "      <td>202.21</td>\n",
       "      <td>NaN</td>\n",
       "      <td>never smoked</td>\n",
       "      <td>1</td>\n",
       "    </tr>\n",
       "    <tr>\n",
       "      <th>2</th>\n",
       "      <td>31112</td>\n",
       "      <td>Male</td>\n",
       "      <td>80.0</td>\n",
       "      <td>0</td>\n",
       "      <td>1</td>\n",
       "      <td>Yes</td>\n",
       "      <td>Private</td>\n",
       "      <td>Rural</td>\n",
       "      <td>105.92</td>\n",
       "      <td>32.5</td>\n",
       "      <td>never smoked</td>\n",
       "      <td>1</td>\n",
       "    </tr>\n",
       "    <tr>\n",
       "      <th>3</th>\n",
       "      <td>60182</td>\n",
       "      <td>Female</td>\n",
       "      <td>49.0</td>\n",
       "      <td>0</td>\n",
       "      <td>0</td>\n",
       "      <td>Yes</td>\n",
       "      <td>Private</td>\n",
       "      <td>Urban</td>\n",
       "      <td>171.23</td>\n",
       "      <td>34.4</td>\n",
       "      <td>smokes</td>\n",
       "      <td>1</td>\n",
       "    </tr>\n",
       "    <tr>\n",
       "      <th>4</th>\n",
       "      <td>1665</td>\n",
       "      <td>Female</td>\n",
       "      <td>79.0</td>\n",
       "      <td>1</td>\n",
       "      <td>0</td>\n",
       "      <td>Yes</td>\n",
       "      <td>Self-employed</td>\n",
       "      <td>Rural</td>\n",
       "      <td>174.12</td>\n",
       "      <td>24.0</td>\n",
       "      <td>never smoked</td>\n",
       "      <td>1</td>\n",
       "    </tr>\n",
       "  </tbody>\n",
       "</table>\n",
       "</div>"
      ],
      "text/plain": [
       "      id  gender   age  hypertension  heart_disease ever_married  \\\n",
       "0   9046    Male  67.0             0              1          Yes   \n",
       "1  51676  Female  61.0             0              0          Yes   \n",
       "2  31112    Male  80.0             0              1          Yes   \n",
       "3  60182  Female  49.0             0              0          Yes   \n",
       "4   1665  Female  79.0             1              0          Yes   \n",
       "\n",
       "       work_type Residence_type  avg_glucose_level   bmi   smoking_status  \\\n",
       "0        Private          Urban             228.69  36.6  formerly smoked   \n",
       "1  Self-employed          Rural             202.21   NaN     never smoked   \n",
       "2        Private          Rural             105.92  32.5     never smoked   \n",
       "3        Private          Urban             171.23  34.4           smokes   \n",
       "4  Self-employed          Rural             174.12  24.0     never smoked   \n",
       "\n",
       "   stroke  \n",
       "0       1  \n",
       "1       1  \n",
       "2       1  \n",
       "3       1  \n",
       "4       1  "
      ]
     },
     "execution_count": 55,
     "metadata": {},
     "output_type": "execute_result"
    }
   ],
   "source": [
    "df.head()"
   ]
  },
  {
   "cell_type": "markdown",
   "metadata": {
    "id": "6oaN_dezlfU6"
   },
   "source": [
    "## Description:\n",
    "This dataset contains information about individuals and their health-related factors, which might be used for predictive analysis or health research, particularly in relation to stroke occurrence.\n",
    "\n",
    "**id**: A unique identifier for each individual in the dataset.\n",
    "\n",
    "**gender**: The gender of the individual (e.g., Male, Female).\n",
    "\n",
    "**age**: The age of the individual (numeric).\n",
    "\n",
    "**hypertension:** A binary value indicating whether the individual has hypertension (1 for yes, 0 for no).\n",
    "\n",
    "**heart_disease:** A binary value indicating whether the individual has heart disease (1 for yes, 0 for no).\n",
    "\n",
    "**ever_married:** Indicates whether the individual has ever been married (Yes or No).\n",
    "\n",
    "**work_type:** The type of work the individual is engaged in, categorized as:\n",
    "\n",
    "**Private:** Works in the private sector\n",
    "\n",
    "**Self-employed:** Works as a self-employed individual\n",
    "Govt_job: Works in a government job\n",
    "\n",
    "**Never_worked:** Never worked\n",
    "\n",
    "**Children:** Underage, typically not in the workforce\n",
    "\n",
    "**Residence_type:** The type of residence where the individual lives, categorized as:\n",
    "\n",
    "**Urban:** Lives in an urban area\n",
    "\n",
    "**Rural:**Lives in a rural area\n",
    "\n",
    "**avg_glucose_level:** The average glucose level in the individual’s blood (numeric).\n",
    "\n",
    "**bmi:** The Body Mass Index (BMI) of the individual, which is a measure of body fat based on weight and height (numeric). Some values may be missing (NaN).\n",
    "\n",
    "**smoking_status:** The smoking habits of the individual, categorized as:\n",
    "\n",
    "**never smoked**: The individual has never smoked\n"
   ]
  },
  {
   "cell_type": "markdown",
   "metadata": {
    "id": "ZC-ueocjL3M0"
   },
   "source": [
    "## Data Exploration and Pre-processing\n",
    "\n"
   ]
  },
  {
   "cell_type": "code",
   "execution_count": 56,
   "metadata": {
    "colab": {
     "base_uri": "https://localhost:8080/",
     "height": 206
    },
    "id": "lHFlS1fKGTye",
    "outputId": "9f5a7170-e10b-4b42-c4b5-621bf213b43e"
   },
   "outputs": [
    {
     "data": {
      "text/html": [
       "<div>\n",
       "<style scoped>\n",
       "    .dataframe tbody tr th:only-of-type {\n",
       "        vertical-align: middle;\n",
       "    }\n",
       "\n",
       "    .dataframe tbody tr th {\n",
       "        vertical-align: top;\n",
       "    }\n",
       "\n",
       "    .dataframe thead th {\n",
       "        text-align: right;\n",
       "    }\n",
       "</style>\n",
       "<table border=\"1\" class=\"dataframe\">\n",
       "  <thead>\n",
       "    <tr style=\"text-align: right;\">\n",
       "      <th></th>\n",
       "      <th>id</th>\n",
       "      <th>gender</th>\n",
       "      <th>age</th>\n",
       "      <th>hypertension</th>\n",
       "      <th>heart_disease</th>\n",
       "      <th>ever_married</th>\n",
       "      <th>work_type</th>\n",
       "      <th>Residence_type</th>\n",
       "      <th>avg_glucose_level</th>\n",
       "      <th>bmi</th>\n",
       "      <th>smoking_status</th>\n",
       "      <th>stroke</th>\n",
       "    </tr>\n",
       "  </thead>\n",
       "  <tbody>\n",
       "    <tr>\n",
       "      <th>0</th>\n",
       "      <td>9046</td>\n",
       "      <td>Male</td>\n",
       "      <td>67.0</td>\n",
       "      <td>0</td>\n",
       "      <td>1</td>\n",
       "      <td>Yes</td>\n",
       "      <td>Private</td>\n",
       "      <td>Urban</td>\n",
       "      <td>228.69</td>\n",
       "      <td>36.6</td>\n",
       "      <td>formerly smoked</td>\n",
       "      <td>1</td>\n",
       "    </tr>\n",
       "    <tr>\n",
       "      <th>1</th>\n",
       "      <td>51676</td>\n",
       "      <td>Female</td>\n",
       "      <td>61.0</td>\n",
       "      <td>0</td>\n",
       "      <td>0</td>\n",
       "      <td>Yes</td>\n",
       "      <td>Self-employed</td>\n",
       "      <td>Rural</td>\n",
       "      <td>202.21</td>\n",
       "      <td>NaN</td>\n",
       "      <td>never smoked</td>\n",
       "      <td>1</td>\n",
       "    </tr>\n",
       "    <tr>\n",
       "      <th>2</th>\n",
       "      <td>31112</td>\n",
       "      <td>Male</td>\n",
       "      <td>80.0</td>\n",
       "      <td>0</td>\n",
       "      <td>1</td>\n",
       "      <td>Yes</td>\n",
       "      <td>Private</td>\n",
       "      <td>Rural</td>\n",
       "      <td>105.92</td>\n",
       "      <td>32.5</td>\n",
       "      <td>never smoked</td>\n",
       "      <td>1</td>\n",
       "    </tr>\n",
       "    <tr>\n",
       "      <th>3</th>\n",
       "      <td>60182</td>\n",
       "      <td>Female</td>\n",
       "      <td>49.0</td>\n",
       "      <td>0</td>\n",
       "      <td>0</td>\n",
       "      <td>Yes</td>\n",
       "      <td>Private</td>\n",
       "      <td>Urban</td>\n",
       "      <td>171.23</td>\n",
       "      <td>34.4</td>\n",
       "      <td>smokes</td>\n",
       "      <td>1</td>\n",
       "    </tr>\n",
       "    <tr>\n",
       "      <th>4</th>\n",
       "      <td>1665</td>\n",
       "      <td>Female</td>\n",
       "      <td>79.0</td>\n",
       "      <td>1</td>\n",
       "      <td>0</td>\n",
       "      <td>Yes</td>\n",
       "      <td>Self-employed</td>\n",
       "      <td>Rural</td>\n",
       "      <td>174.12</td>\n",
       "      <td>24.0</td>\n",
       "      <td>never smoked</td>\n",
       "      <td>1</td>\n",
       "    </tr>\n",
       "  </tbody>\n",
       "</table>\n",
       "</div>"
      ],
      "text/plain": [
       "      id  gender   age  hypertension  heart_disease ever_married  \\\n",
       "0   9046    Male  67.0             0              1          Yes   \n",
       "1  51676  Female  61.0             0              0          Yes   \n",
       "2  31112    Male  80.0             0              1          Yes   \n",
       "3  60182  Female  49.0             0              0          Yes   \n",
       "4   1665  Female  79.0             1              0          Yes   \n",
       "\n",
       "       work_type Residence_type  avg_glucose_level   bmi   smoking_status  \\\n",
       "0        Private          Urban             228.69  36.6  formerly smoked   \n",
       "1  Self-employed          Rural             202.21   NaN     never smoked   \n",
       "2        Private          Rural             105.92  32.5     never smoked   \n",
       "3        Private          Urban             171.23  34.4           smokes   \n",
       "4  Self-employed          Rural             174.12  24.0     never smoked   \n",
       "\n",
       "   stroke  \n",
       "0       1  \n",
       "1       1  \n",
       "2       1  \n",
       "3       1  \n",
       "4       1  "
      ]
     },
     "execution_count": 56,
     "metadata": {},
     "output_type": "execute_result"
    }
   ],
   "source": [
    "df.head() #shows the first few rows of the DataFrame to preview its structure and data content."
   ]
  },
  {
   "cell_type": "code",
   "execution_count": 57,
   "metadata": {
    "colab": {
     "base_uri": "https://localhost:8080/"
    },
    "id": "y6HP_mzmMEjW",
    "outputId": "c20b498d-a28a-4999-df9c-a9f0faf0150b"
   },
   "outputs": [
    {
     "data": {
      "text/plain": [
       "(5110, 12)"
      ]
     },
     "execution_count": 57,
     "metadata": {},
     "output_type": "execute_result"
    }
   ],
   "source": [
    "df.shape"
   ]
  },
  {
   "cell_type": "code",
   "execution_count": 58,
   "metadata": {
    "colab": {
     "base_uri": "https://localhost:8080/"
    },
    "id": "lA3osoHTMrrk",
    "outputId": "612a441e-9dc3-44ca-e016-ddbc7baddb93"
   },
   "outputs": [
    {
     "name": "stdout",
     "output_type": "stream",
     "text": [
      "<class 'pandas.core.frame.DataFrame'>\n",
      "RangeIndex: 5110 entries, 0 to 5109\n",
      "Data columns (total 12 columns):\n",
      " #   Column             Non-Null Count  Dtype  \n",
      "---  ------             --------------  -----  \n",
      " 0   id                 5110 non-null   int64  \n",
      " 1   gender             5110 non-null   object \n",
      " 2   age                5110 non-null   float64\n",
      " 3   hypertension       5110 non-null   int64  \n",
      " 4   heart_disease      5110 non-null   int64  \n",
      " 5   ever_married       5110 non-null   object \n",
      " 6   work_type          5110 non-null   object \n",
      " 7   Residence_type     5110 non-null   object \n",
      " 8   avg_glucose_level  5110 non-null   float64\n",
      " 9   bmi                4909 non-null   float64\n",
      " 10  smoking_status     5110 non-null   object \n",
      " 11  stroke             5110 non-null   int64  \n",
      "dtypes: float64(3), int64(4), object(5)\n",
      "memory usage: 479.2+ KB\n"
     ]
    }
   ],
   "source": [
    "df.info()"
   ]
  },
  {
   "cell_type": "markdown",
   "metadata": {
    "id": "ZDyASVZNMz_5"
   },
   "source": [
    "**Observations:**\n",
    "* The dataset consists of 5510 rows with 12 columns.\n",
    "* We can see that columns like id\t,gender,\tage\t,hypertension\t,heart_disease,ever_married\t,work_type,\tResidence_type,avg_glucose_level,bmi,\tsmoking_status,\tstroke contain string values, which are represented using the **\"object\"**,**\"Integer\"**,**\"float\"**  datatype in this dataframe."
   ]
  },
  {
   "cell_type": "markdown",
   "metadata": {
    "id": "CckXa5xiVa8r"
   },
   "source": [
    "**Missing values:**\n",
    "\n",
    " Finding missing values helps fix data issues and ensures accurate analysis or modeling."
   ]
  },
  {
   "cell_type": "code",
   "execution_count": 59,
   "metadata": {
    "colab": {
     "base_uri": "https://localhost:8080/"
    },
    "id": "7pJ-wVXZGWtu",
    "outputId": "720291dc-66b4-4dad-9ddb-116a946bd003"
   },
   "outputs": [
    {
     "data": {
      "text/plain": [
       "True"
      ]
     },
     "execution_count": 59,
     "metadata": {},
     "output_type": "execute_result"
    }
   ],
   "source": [
    "df['bmi'].isnull().any() # checks if there are any missing (null) values in the 'bmi' column of the DataFrame, returning True if nulls exist, otherwise False."
   ]
  },
  {
   "cell_type": "code",
   "execution_count": 60,
   "metadata": {
    "colab": {
     "base_uri": "https://localhost:8080/",
     "height": 460
    },
    "id": "UK5u9S_jGZI_",
    "outputId": "b7c4b51e-5b66-4563-d365-c916e1da80d1"
   },
   "outputs": [
    {
     "data": {
      "text/plain": [
       "id                     0\n",
       "gender                 0\n",
       "age                    0\n",
       "hypertension           0\n",
       "heart_disease          0\n",
       "ever_married           0\n",
       "work_type              0\n",
       "Residence_type         0\n",
       "avg_glucose_level      0\n",
       "bmi                  201\n",
       "smoking_status         0\n",
       "stroke                 0\n",
       "dtype: int64"
      ]
     },
     "execution_count": 60,
     "metadata": {},
     "output_type": "execute_result"
    }
   ],
   "source": [
    "df.isnull().sum()"
   ]
  },
  {
   "cell_type": "code",
   "execution_count": 61,
   "metadata": {
    "colab": {
     "base_uri": "https://localhost:8080/",
     "height": 300
    },
    "id": "e9AVOQzhGa2J",
    "outputId": "4d6274f2-6f17-4e12-9c23-351c0b8c74ef"
   },
   "outputs": [
    {
     "data": {
      "text/html": [
       "<div>\n",
       "<style scoped>\n",
       "    .dataframe tbody tr th:only-of-type {\n",
       "        vertical-align: middle;\n",
       "    }\n",
       "\n",
       "    .dataframe tbody tr th {\n",
       "        vertical-align: top;\n",
       "    }\n",
       "\n",
       "    .dataframe thead th {\n",
       "        text-align: right;\n",
       "    }\n",
       "</style>\n",
       "<table border=\"1\" class=\"dataframe\">\n",
       "  <thead>\n",
       "    <tr style=\"text-align: right;\">\n",
       "      <th></th>\n",
       "      <th>id</th>\n",
       "      <th>age</th>\n",
       "      <th>hypertension</th>\n",
       "      <th>heart_disease</th>\n",
       "      <th>avg_glucose_level</th>\n",
       "      <th>bmi</th>\n",
       "      <th>stroke</th>\n",
       "    </tr>\n",
       "  </thead>\n",
       "  <tbody>\n",
       "    <tr>\n",
       "      <th>count</th>\n",
       "      <td>5110.000000</td>\n",
       "      <td>5110.000000</td>\n",
       "      <td>5110.000000</td>\n",
       "      <td>5110.000000</td>\n",
       "      <td>5110.000000</td>\n",
       "      <td>4909.000000</td>\n",
       "      <td>5110.000000</td>\n",
       "    </tr>\n",
       "    <tr>\n",
       "      <th>mean</th>\n",
       "      <td>36517.829354</td>\n",
       "      <td>43.226614</td>\n",
       "      <td>0.097456</td>\n",
       "      <td>0.054012</td>\n",
       "      <td>106.147677</td>\n",
       "      <td>28.893237</td>\n",
       "      <td>0.048728</td>\n",
       "    </tr>\n",
       "    <tr>\n",
       "      <th>std</th>\n",
       "      <td>21161.721625</td>\n",
       "      <td>22.612647</td>\n",
       "      <td>0.296607</td>\n",
       "      <td>0.226063</td>\n",
       "      <td>45.283560</td>\n",
       "      <td>7.854067</td>\n",
       "      <td>0.215320</td>\n",
       "    </tr>\n",
       "    <tr>\n",
       "      <th>min</th>\n",
       "      <td>67.000000</td>\n",
       "      <td>0.080000</td>\n",
       "      <td>0.000000</td>\n",
       "      <td>0.000000</td>\n",
       "      <td>55.120000</td>\n",
       "      <td>10.300000</td>\n",
       "      <td>0.000000</td>\n",
       "    </tr>\n",
       "    <tr>\n",
       "      <th>25%</th>\n",
       "      <td>17741.250000</td>\n",
       "      <td>25.000000</td>\n",
       "      <td>0.000000</td>\n",
       "      <td>0.000000</td>\n",
       "      <td>77.245000</td>\n",
       "      <td>23.500000</td>\n",
       "      <td>0.000000</td>\n",
       "    </tr>\n",
       "    <tr>\n",
       "      <th>50%</th>\n",
       "      <td>36932.000000</td>\n",
       "      <td>45.000000</td>\n",
       "      <td>0.000000</td>\n",
       "      <td>0.000000</td>\n",
       "      <td>91.885000</td>\n",
       "      <td>28.100000</td>\n",
       "      <td>0.000000</td>\n",
       "    </tr>\n",
       "    <tr>\n",
       "      <th>75%</th>\n",
       "      <td>54682.000000</td>\n",
       "      <td>61.000000</td>\n",
       "      <td>0.000000</td>\n",
       "      <td>0.000000</td>\n",
       "      <td>114.090000</td>\n",
       "      <td>33.100000</td>\n",
       "      <td>0.000000</td>\n",
       "    </tr>\n",
       "    <tr>\n",
       "      <th>max</th>\n",
       "      <td>72940.000000</td>\n",
       "      <td>82.000000</td>\n",
       "      <td>1.000000</td>\n",
       "      <td>1.000000</td>\n",
       "      <td>271.740000</td>\n",
       "      <td>97.600000</td>\n",
       "      <td>1.000000</td>\n",
       "    </tr>\n",
       "  </tbody>\n",
       "</table>\n",
       "</div>"
      ],
      "text/plain": [
       "                 id          age  hypertension  heart_disease  \\\n",
       "count   5110.000000  5110.000000   5110.000000    5110.000000   \n",
       "mean   36517.829354    43.226614      0.097456       0.054012   \n",
       "std    21161.721625    22.612647      0.296607       0.226063   \n",
       "min       67.000000     0.080000      0.000000       0.000000   \n",
       "25%    17741.250000    25.000000      0.000000       0.000000   \n",
       "50%    36932.000000    45.000000      0.000000       0.000000   \n",
       "75%    54682.000000    61.000000      0.000000       0.000000   \n",
       "max    72940.000000    82.000000      1.000000       1.000000   \n",
       "\n",
       "       avg_glucose_level          bmi       stroke  \n",
       "count        5110.000000  4909.000000  5110.000000  \n",
       "mean          106.147677    28.893237     0.048728  \n",
       "std            45.283560     7.854067     0.215320  \n",
       "min            55.120000    10.300000     0.000000  \n",
       "25%            77.245000    23.500000     0.000000  \n",
       "50%            91.885000    28.100000     0.000000  \n",
       "75%           114.090000    33.100000     0.000000  \n",
       "max           271.740000    97.600000     1.000000  "
      ]
     },
     "execution_count": 61,
     "metadata": {},
     "output_type": "execute_result"
    }
   ],
   "source": [
    "df.describe()"
   ]
  },
  {
   "cell_type": "markdown",
   "metadata": {
    "id": "HWb-oCl-NI56"
   },
   "source": [
    "Observation:\n",
    "\n",
    "This dataset provides health-related statistics for 5,110 individuals, focusing on age, hypertension, heart disease, average glucose level, and stroke occurrence. The data shows that 9.75% have hypertension, 5.4% have heart disease, and 4.87% have had a stroke. Average glucose levels range from 55.12 to 271.74."
   ]
  },
  {
   "cell_type": "code",
   "execution_count": 62,
   "metadata": {
    "colab": {
     "base_uri": "https://localhost:8080/",
     "height": 174
    },
    "id": "W7uKql4FGdO4",
    "outputId": "66dbf17f-8a97-4b58-aa95-e43196196e3c"
   },
   "outputs": [
    {
     "data": {
      "text/html": [
       "<div>\n",
       "<style scoped>\n",
       "    .dataframe tbody tr th:only-of-type {\n",
       "        vertical-align: middle;\n",
       "    }\n",
       "\n",
       "    .dataframe tbody tr th {\n",
       "        vertical-align: top;\n",
       "    }\n",
       "\n",
       "    .dataframe thead th {\n",
       "        text-align: right;\n",
       "    }\n",
       "</style>\n",
       "<table border=\"1\" class=\"dataframe\">\n",
       "  <thead>\n",
       "    <tr style=\"text-align: right;\">\n",
       "      <th></th>\n",
       "      <th>gender</th>\n",
       "      <th>ever_married</th>\n",
       "      <th>work_type</th>\n",
       "      <th>Residence_type</th>\n",
       "      <th>smoking_status</th>\n",
       "    </tr>\n",
       "  </thead>\n",
       "  <tbody>\n",
       "    <tr>\n",
       "      <th>count</th>\n",
       "      <td>5110</td>\n",
       "      <td>5110</td>\n",
       "      <td>5110</td>\n",
       "      <td>5110</td>\n",
       "      <td>5110</td>\n",
       "    </tr>\n",
       "    <tr>\n",
       "      <th>unique</th>\n",
       "      <td>3</td>\n",
       "      <td>2</td>\n",
       "      <td>5</td>\n",
       "      <td>2</td>\n",
       "      <td>4</td>\n",
       "    </tr>\n",
       "    <tr>\n",
       "      <th>top</th>\n",
       "      <td>Female</td>\n",
       "      <td>Yes</td>\n",
       "      <td>Private</td>\n",
       "      <td>Urban</td>\n",
       "      <td>never smoked</td>\n",
       "    </tr>\n",
       "    <tr>\n",
       "      <th>freq</th>\n",
       "      <td>2994</td>\n",
       "      <td>3353</td>\n",
       "      <td>2925</td>\n",
       "      <td>2596</td>\n",
       "      <td>1892</td>\n",
       "    </tr>\n",
       "  </tbody>\n",
       "</table>\n",
       "</div>"
      ],
      "text/plain": [
       "        gender ever_married work_type Residence_type smoking_status\n",
       "count     5110         5110      5110           5110           5110\n",
       "unique       3            2         5              2              4\n",
       "top     Female          Yes   Private          Urban   never smoked\n",
       "freq      2994         3353      2925           2596           1892"
      ]
     },
     "execution_count": 62,
     "metadata": {},
     "output_type": "execute_result"
    }
   ],
   "source": [
    "df.describe(include = object) # used to get summaries of categorical columns."
   ]
  },
  {
   "cell_type": "code",
   "execution_count": 63,
   "metadata": {
    "colab": {
     "base_uri": "https://localhost:8080/"
    },
    "id": "qX8v9xziGfNQ",
    "outputId": "82566eb9-3f5d-45c2-93d1-0997f55178e4"
   },
   "outputs": [
    {
     "data": {
      "text/plain": [
       "{'Govt_job', 'Never_worked', 'Private', 'Self-employed', 'children'}"
      ]
     },
     "execution_count": 63,
     "metadata": {},
     "output_type": "execute_result"
    }
   ],
   "source": [
    "set(df.work_type)"
   ]
  },
  {
   "cell_type": "code",
   "execution_count": 64,
   "metadata": {
    "colab": {
     "base_uri": "https://localhost:8080/"
    },
    "id": "2gTNmxZEGg_U",
    "outputId": "0b5f989a-2549-4c1d-f552-1b24aded2548"
   },
   "outputs": [
    {
     "data": {
      "text/plain": [
       "array(['formerly smoked', 'never smoked', 'smokes', 'Unknown'],\n",
       "      dtype=object)"
      ]
     },
     "execution_count": 64,
     "metadata": {},
     "output_type": "execute_result"
    }
   ],
   "source": [
    "df.smoking_status.unique()"
   ]
  },
  {
   "cell_type": "code",
   "execution_count": 65,
   "metadata": {
    "colab": {
     "base_uri": "https://localhost:8080/"
    },
    "id": "ubO_-__RGXkd",
    "outputId": "1f773f62-6298-43de-caa6-5484fdadd6e1"
   },
   "outputs": [
    {
     "name": "stdout",
     "output_type": "stream",
     "text": [
      "id                   0.00\n",
      "gender               0.00\n",
      "age                  0.00\n",
      "hypertension         0.00\n",
      "heart_disease        0.00\n",
      "ever_married         0.00\n",
      "work_type            0.00\n",
      "Residence_type       0.00\n",
      "avg_glucose_level    0.00\n",
      "bmi                  3.93\n",
      "smoking_status       0.00\n",
      "stroke               0.00\n",
      "dtype: float64\n"
     ]
    }
   ],
   "source": [
    "print((df.isnull().mean() * 100).round(2))"
   ]
  },
  {
   "cell_type": "code",
   "execution_count": 66,
   "metadata": {
    "colab": {
     "base_uri": "https://localhost:8080/",
     "height": 634
    },
    "id": "7bBhYzhFGXke",
    "outputId": "48b51e65-960e-4f1a-f67d-c2a9c7e85919"
   },
   "outputs": [
    {
     "name": "stderr",
     "output_type": "stream",
     "text": [
      "C:\\Users\\velet\\AppData\\Local\\Temp\\ipykernel_25916\\3100121593.py:1: FutureWarning: A value is trying to be set on a copy of a DataFrame or Series through chained assignment using an inplace method.\n",
      "The behavior will change in pandas 3.0. This inplace method will never work because the intermediate object on which we are setting values always behaves as a copy.\n",
      "\n",
      "For example, when doing 'df[col].method(value, inplace=True)', try using 'df.method({col: value}, inplace=True)' or df[col] = df[col].method(value) instead, to perform the operation inplace on the original object.\n",
      "\n",
      "\n",
      "  df['bmi'].fillna(df['bmi'].median(), inplace=True)\n"
     ]
    },
    {
     "data": {
      "text/html": [
       "<div>\n",
       "<style scoped>\n",
       "    .dataframe tbody tr th:only-of-type {\n",
       "        vertical-align: middle;\n",
       "    }\n",
       "\n",
       "    .dataframe tbody tr th {\n",
       "        vertical-align: top;\n",
       "    }\n",
       "\n",
       "    .dataframe thead th {\n",
       "        text-align: right;\n",
       "    }\n",
       "</style>\n",
       "<table border=\"1\" class=\"dataframe\">\n",
       "  <thead>\n",
       "    <tr style=\"text-align: right;\">\n",
       "      <th></th>\n",
       "      <th>id</th>\n",
       "      <th>gender</th>\n",
       "      <th>age</th>\n",
       "      <th>hypertension</th>\n",
       "      <th>heart_disease</th>\n",
       "      <th>ever_married</th>\n",
       "      <th>work_type</th>\n",
       "      <th>Residence_type</th>\n",
       "      <th>avg_glucose_level</th>\n",
       "      <th>bmi</th>\n",
       "      <th>smoking_status</th>\n",
       "      <th>stroke</th>\n",
       "    </tr>\n",
       "  </thead>\n",
       "  <tbody>\n",
       "    <tr>\n",
       "      <th>0</th>\n",
       "      <td>9046</td>\n",
       "      <td>Male</td>\n",
       "      <td>67.0</td>\n",
       "      <td>0</td>\n",
       "      <td>1</td>\n",
       "      <td>Yes</td>\n",
       "      <td>Private</td>\n",
       "      <td>Urban</td>\n",
       "      <td>228.69</td>\n",
       "      <td>36.6</td>\n",
       "      <td>formerly smoked</td>\n",
       "      <td>1</td>\n",
       "    </tr>\n",
       "    <tr>\n",
       "      <th>1</th>\n",
       "      <td>51676</td>\n",
       "      <td>Female</td>\n",
       "      <td>61.0</td>\n",
       "      <td>0</td>\n",
       "      <td>0</td>\n",
       "      <td>Yes</td>\n",
       "      <td>Self-employed</td>\n",
       "      <td>Rural</td>\n",
       "      <td>202.21</td>\n",
       "      <td>28.1</td>\n",
       "      <td>never smoked</td>\n",
       "      <td>1</td>\n",
       "    </tr>\n",
       "    <tr>\n",
       "      <th>2</th>\n",
       "      <td>31112</td>\n",
       "      <td>Male</td>\n",
       "      <td>80.0</td>\n",
       "      <td>0</td>\n",
       "      <td>1</td>\n",
       "      <td>Yes</td>\n",
       "      <td>Private</td>\n",
       "      <td>Rural</td>\n",
       "      <td>105.92</td>\n",
       "      <td>32.5</td>\n",
       "      <td>never smoked</td>\n",
       "      <td>1</td>\n",
       "    </tr>\n",
       "    <tr>\n",
       "      <th>3</th>\n",
       "      <td>60182</td>\n",
       "      <td>Female</td>\n",
       "      <td>49.0</td>\n",
       "      <td>0</td>\n",
       "      <td>0</td>\n",
       "      <td>Yes</td>\n",
       "      <td>Private</td>\n",
       "      <td>Urban</td>\n",
       "      <td>171.23</td>\n",
       "      <td>34.4</td>\n",
       "      <td>smokes</td>\n",
       "      <td>1</td>\n",
       "    </tr>\n",
       "    <tr>\n",
       "      <th>4</th>\n",
       "      <td>1665</td>\n",
       "      <td>Female</td>\n",
       "      <td>79.0</td>\n",
       "      <td>1</td>\n",
       "      <td>0</td>\n",
       "      <td>Yes</td>\n",
       "      <td>Self-employed</td>\n",
       "      <td>Rural</td>\n",
       "      <td>174.12</td>\n",
       "      <td>24.0</td>\n",
       "      <td>never smoked</td>\n",
       "      <td>1</td>\n",
       "    </tr>\n",
       "    <tr>\n",
       "      <th>...</th>\n",
       "      <td>...</td>\n",
       "      <td>...</td>\n",
       "      <td>...</td>\n",
       "      <td>...</td>\n",
       "      <td>...</td>\n",
       "      <td>...</td>\n",
       "      <td>...</td>\n",
       "      <td>...</td>\n",
       "      <td>...</td>\n",
       "      <td>...</td>\n",
       "      <td>...</td>\n",
       "      <td>...</td>\n",
       "    </tr>\n",
       "    <tr>\n",
       "      <th>5105</th>\n",
       "      <td>18234</td>\n",
       "      <td>Female</td>\n",
       "      <td>80.0</td>\n",
       "      <td>1</td>\n",
       "      <td>0</td>\n",
       "      <td>Yes</td>\n",
       "      <td>Private</td>\n",
       "      <td>Urban</td>\n",
       "      <td>83.75</td>\n",
       "      <td>28.1</td>\n",
       "      <td>never smoked</td>\n",
       "      <td>0</td>\n",
       "    </tr>\n",
       "    <tr>\n",
       "      <th>5106</th>\n",
       "      <td>44873</td>\n",
       "      <td>Female</td>\n",
       "      <td>81.0</td>\n",
       "      <td>0</td>\n",
       "      <td>0</td>\n",
       "      <td>Yes</td>\n",
       "      <td>Self-employed</td>\n",
       "      <td>Urban</td>\n",
       "      <td>125.20</td>\n",
       "      <td>40.0</td>\n",
       "      <td>never smoked</td>\n",
       "      <td>0</td>\n",
       "    </tr>\n",
       "    <tr>\n",
       "      <th>5107</th>\n",
       "      <td>19723</td>\n",
       "      <td>Female</td>\n",
       "      <td>35.0</td>\n",
       "      <td>0</td>\n",
       "      <td>0</td>\n",
       "      <td>Yes</td>\n",
       "      <td>Self-employed</td>\n",
       "      <td>Rural</td>\n",
       "      <td>82.99</td>\n",
       "      <td>30.6</td>\n",
       "      <td>never smoked</td>\n",
       "      <td>0</td>\n",
       "    </tr>\n",
       "    <tr>\n",
       "      <th>5108</th>\n",
       "      <td>37544</td>\n",
       "      <td>Male</td>\n",
       "      <td>51.0</td>\n",
       "      <td>0</td>\n",
       "      <td>0</td>\n",
       "      <td>Yes</td>\n",
       "      <td>Private</td>\n",
       "      <td>Rural</td>\n",
       "      <td>166.29</td>\n",
       "      <td>25.6</td>\n",
       "      <td>formerly smoked</td>\n",
       "      <td>0</td>\n",
       "    </tr>\n",
       "    <tr>\n",
       "      <th>5109</th>\n",
       "      <td>44679</td>\n",
       "      <td>Female</td>\n",
       "      <td>44.0</td>\n",
       "      <td>0</td>\n",
       "      <td>0</td>\n",
       "      <td>Yes</td>\n",
       "      <td>Govt_job</td>\n",
       "      <td>Urban</td>\n",
       "      <td>85.28</td>\n",
       "      <td>26.2</td>\n",
       "      <td>Unknown</td>\n",
       "      <td>0</td>\n",
       "    </tr>\n",
       "  </tbody>\n",
       "</table>\n",
       "<p>5110 rows × 12 columns</p>\n",
       "</div>"
      ],
      "text/plain": [
       "         id  gender   age  hypertension  heart_disease ever_married  \\\n",
       "0      9046    Male  67.0             0              1          Yes   \n",
       "1     51676  Female  61.0             0              0          Yes   \n",
       "2     31112    Male  80.0             0              1          Yes   \n",
       "3     60182  Female  49.0             0              0          Yes   \n",
       "4      1665  Female  79.0             1              0          Yes   \n",
       "...     ...     ...   ...           ...            ...          ...   \n",
       "5105  18234  Female  80.0             1              0          Yes   \n",
       "5106  44873  Female  81.0             0              0          Yes   \n",
       "5107  19723  Female  35.0             0              0          Yes   \n",
       "5108  37544    Male  51.0             0              0          Yes   \n",
       "5109  44679  Female  44.0             0              0          Yes   \n",
       "\n",
       "          work_type Residence_type  avg_glucose_level   bmi   smoking_status  \\\n",
       "0           Private          Urban             228.69  36.6  formerly smoked   \n",
       "1     Self-employed          Rural             202.21  28.1     never smoked   \n",
       "2           Private          Rural             105.92  32.5     never smoked   \n",
       "3           Private          Urban             171.23  34.4           smokes   \n",
       "4     Self-employed          Rural             174.12  24.0     never smoked   \n",
       "...             ...            ...                ...   ...              ...   \n",
       "5105        Private          Urban              83.75  28.1     never smoked   \n",
       "5106  Self-employed          Urban             125.20  40.0     never smoked   \n",
       "5107  Self-employed          Rural              82.99  30.6     never smoked   \n",
       "5108        Private          Rural             166.29  25.6  formerly smoked   \n",
       "5109       Govt_job          Urban              85.28  26.2          Unknown   \n",
       "\n",
       "      stroke  \n",
       "0          1  \n",
       "1          1  \n",
       "2          1  \n",
       "3          1  \n",
       "4          1  \n",
       "...      ...  \n",
       "5105       0  \n",
       "5106       0  \n",
       "5107       0  \n",
       "5108       0  \n",
       "5109       0  \n",
       "\n",
       "[5110 rows x 12 columns]"
      ]
     },
     "execution_count": 66,
     "metadata": {},
     "output_type": "execute_result"
    }
   ],
   "source": [
    "df['bmi'].fillna(df['bmi'].median(), inplace=True)\n",
    "\n",
    "df"
   ]
  },
  {
   "cell_type": "markdown",
   "metadata": {
    "id": "IkFbxNgt_dHm"
   },
   "source": [
    "The code fills any missing values in the 'bmi' column of the DataFrame df with the median value of the 'bmi' column."
   ]
  },
  {
   "cell_type": "markdown",
   "metadata": {
    "id": "CcV5FWcG_nBE"
   },
   "source": [
    "It fills missing values in the 'bmi' column of df with the mode (most frequent value) of the 'bmi' column."
   ]
  },
  {
   "cell_type": "markdown",
   "metadata": {
    "id": "-rok_i9X_nnB"
   },
   "source": [
    "# Data Visualization\n",
    "\n",
    "<u>**Categorical columns** </u>\n",
    "- gender: (e.g., Male, Female)\n",
    "- hypertension: (0 = No, 1 = Yes)\n",
    "- heart_disease: (0 = No, 1 = Yes)\n",
    "- ever_married: (Yes, No)\n",
    "- work_type: (e.g., Private, Self-employed)\n",
    "- Residence_type: (Urban, Rural)\n",
    "- smoking_status: (e.g., formerly smoked, never smoked, smokes)\n",
    "- stroke: (0 = No, 1 = Yes)\n",
    "\n",
    "**1.Histogram of Age Distribution for Different Residence Types**"
   ]
  },
  {
   "cell_type": "code",
   "execution_count": 67,
   "metadata": {
    "colab": {
     "base_uri": "https://localhost:8080/",
     "height": 472
    },
    "id": "PI9DokfvG8tn",
    "outputId": "da536258-089c-4c44-d47a-9d1f384e58fc"
   },
   "outputs": [
    {
     "data": {
      "image/png": "[encoded data removed]",
      "text/plain": [
       "<Figure size 640x480 with 1 Axes>"
      ]
     },
     "metadata": {},
     "output_type": "display_data"
    }
   ],
   "source": [
    "sns.histplot(data=df, x='age', hue='Residence_type', bins=30, kde=True)\n",
    "plt.title('Age Distribution by Residence Type')\n",
    "plt.xlabel('Age')\n",
    "plt.ylabel('Count')\n",
    "plt.show()"
   ]
  },
  {
   "cell_type": "markdown",
   "metadata": {
    "id": "M9W4JJXV_i-6"
   },
   "source": [
    "**Observation:**\n",
    "\n",
    "The majority of older age groups are found in rural areas compared to urban.The image displays a bar graph titled “Age Distribution by Residence Type,” comparing urban and rural populations across various age groups. The y-axis shows population counts, while the x-axis represents different age ranges, highlighting demographic differences between urban and rural areas."
   ]
  },
  {
   "cell_type": "markdown",
   "metadata": {
    "id": "GbFYzzhm--2A"
   },
   "source": [
    "**2.Scatter Plot of Age vs BMI for Different Work Types**"
   ]
  },
  {
   "cell_type": "code",
   "execution_count": 68,
   "metadata": {
    "colab": {
     "base_uri": "https://localhost:8080/",
     "height": 472
    },
    "id": "Pwrp1H1u7W3i",
    "outputId": "4e2265fa-2ee4-4537-a550-21fb8088a9c8"
   },
   "outputs": [
    {
     "data": {
      "image/png": "[encoded data removed]",
      "text/plain": [
       "<Figure size 640x480 with 1 Axes>"
      ]
     },
     "metadata": {},
     "output_type": "display_data"
    }
   ],
   "source": [
    "sns.barplot(data=df, x='age', y='bmi', hue='work_type')\n",
    "plt.title('Age vs BMI by Work Type')\n",
    "plt.xlabel('Age')\n",
    "plt.ylabel('BMI')\n",
    "plt.show()"
   ]
  },
  {
   "cell_type": "markdown",
   "metadata": {
    "id": "-HqFW_yO-xjM"
   },
   "source": [
    "**Observation:**\n",
    "\n",
    "The image shows a graph titled “Age vs BMI by Work Type,” plotting BMI against age for different work types: children, housewife, self-employed, private job, and government job.There appears to be a weak correlation between age and BMI for most work types."
   ]
  },
  {
   "cell_type": "markdown",
   "metadata": {
    "id": "fMGzE12V-psg"
   },
   "source": [
    "3.**Box Plot of BMI Distribution Across Smoking**"
   ]
  },
  {
   "cell_type": "code",
   "execution_count": 69,
   "metadata": {
    "colab": {
     "base_uri": "https://localhost:8080/",
     "height": 472
    },
    "id": "mr5GejQq8HgT",
    "outputId": "e55ebc43-d7b6-483a-b625-0b0094c6f0bd"
   },
   "outputs": [
    {
     "data": {
      "image/png": "[encoded data removed]",
      "text/plain": [
       "<Figure size 640x480 with 1 Axes>"
      ]
     },
     "metadata": {},
     "output_type": "display_data"
    }
   ],
   "source": [
    "sns.barplot(data=df, x='smoking_status', y='bmi')\n",
    "plt.title('BMI Distribution by Smoking Status')\n",
    "plt.xlabel('Smoking Status')\n",
    "plt.ylabel('BMI')\n",
    "plt.show()\n"
   ]
  },
  {
   "cell_type": "markdown",
   "metadata": {
    "id": "dwoolook-kdu"
   },
   "source": [
    "**Observation:**\n",
    "\n",
    "The image shows a bar graph titled “BMI Distribution by Smoking Status,” comparing BMI values across four categories: formerly smoked, never smoked, smokes, and unknown, highlighting differences in BMI among these groups. Non-smokers have a lower range and median BMI compared to smokers"
   ]
  },
  {
   "cell_type": "markdown",
   "metadata": {
    "id": "9iRNtaal-hbc"
   },
   "source": [
    "**4.Bar Plot of Average Glucose Level by Smoking Status**"
   ]
  },
  {
   "cell_type": "code",
   "execution_count": 70,
   "metadata": {
    "colab": {
     "base_uri": "https://localhost:8080/",
     "height": 472
    },
    "id": "uoJeXDBk8LNc",
    "outputId": "9b93176f-8b94-4868-81ac-d42aee2869f5"
   },
   "outputs": [
    {
     "data": {
      "image/png": "[encoded data removed]",
      "text/plain": [
       "<Figure size 640x480 with 1 Axes>"
      ]
     },
     "metadata": {},
     "output_type": "display_data"
    }
   ],
   "source": [
    "avg_glucose = df.groupby('smoking_status')['avg_glucose_level'].mean().reset_index()\n",
    "sns.barplot(data=avg_glucose, x='smoking_status', y='avg_glucose_level')\n",
    "plt.title('Average Glucose Level by Smoking Status')\n",
    "plt.xlabel('Smoking Status')\n",
    "plt.ylabel('Average Glucose Level')\n",
    "plt.show()\n"
   ]
  },
  {
   "cell_type": "markdown",
   "metadata": {
    "id": "RKGc0vsT-XvP"
   },
   "source": [
    "**Observation:**\n",
    "\n",
    "The image shows a bar chart comparing average glucose levels across different smoking statuses: unknown, formerly smoked, never smoked, and smokes, highlighting variations in glucose levels among these groups. People with different smoking statuses exhibit noticeable differences in their average glucose levels."
   ]
  },
  {
   "cell_type": "markdown",
   "metadata": {
    "id": "hL9ljYmL-PfM"
   },
   "source": [
    "5.**Count Plot for Work Types**"
   ]
  },
  {
   "cell_type": "code",
   "execution_count": 71,
   "metadata": {
    "colab": {
     "base_uri": "https://localhost:8080/",
     "height": 538
    },
    "id": "f9M1Tq7G8No8",
    "outputId": "79d08af6-9b39-46da-ccad-4e3abeabfaae"
   },
   "outputs": [
    {
     "data": {
      "image/png": "[encoded data removed]",
      "text/plain": [
       "<Figure size 640x480 with 1 Axes>"
      ]
     },
     "metadata": {},
     "output_type": "display_data"
    }
   ],
   "source": [
    "sns.countplot(data=df, x='work_type')\n",
    "plt.title('Distribution of People by Work Type')\n",
    "plt.xlabel('Work Type')\n",
    "plt.ylabel('Count')\n",
    "plt.xticks(rotation=45)\n",
    "plt.show()"
   ]
  },
  {
   "cell_type": "markdown",
   "metadata": {
    "id": "san42hGb-GiY"
   },
   "source": [
    "**Observations**:\n",
    "\n",
    "The Private work type has the highest number of people in the dataset.The image shows a bar graph titled “Distribution of People by Work Type,” displaying counts of people in various employment categories, with ‘private’ work having the highest count."
   ]
  },
  {
   "cell_type": "code",
   "execution_count": 72,
   "metadata": {
    "colab": {
     "base_uri": "https://localhost:8080/",
     "height": 564
    },
    "id": "aoGRvfZNI5Un",
    "outputId": "68a2decd-afbd-425f-a29a-e020e2cc2beb"
   },
   "outputs": [
    {
     "data": {
      "image/png": "[encoded data removed]",
      "text/plain": [
       "<Figure size 1200x600 with 1 Axes>"
      ]
     },
     "metadata": {},
     "output_type": "display_data"
    }
   ],
   "source": [
    "import matplotlib.pyplot as plt\n",
    "import seaborn as sns\n",
    "plt.figure(figsize=(12, 6))\n",
    "custom_palette = [\"blue\", \"green\"]\n",
    "sns.boxplot(data=df, x=\"smoking_status\", y=\"age\", hue=\"stroke\", palette=custom_palette)\n",
    "\n",
    "plt.title(\"Age Distribution by Smoking Status and Stroke Incidence\")\n",
    "plt.xlabel(\"Smoking Status\")\n",
    "plt.ylabel(\"Age\")\n",
    "plt.legend(title='Stroke Incidence', labels=['No Stroke (0)', 'Stroke (1)'])\n",
    "plt.show()"
   ]
  },
  {
   "cell_type": "markdown",
   "metadata": {
    "id": "k9m2KWAaJxhL"
   },
   "source": [
    "### Observation:\n",
    "\n",
    "Older Age and Stroke: Stroke cases are more common in older age groups across all smoking statuses.\n",
    "- Former Smokers: Individuals who \"formerly smoked\" tend to be older, and within this group, there is a higher proportion of stroke cases.\n",
    "- Never Smoked Group: People who \"never smoked\" are generally younger, with fewer stroke cases, possibly due to lower average age.\n",
    "- General Insight: Age appears to be a stronger factor in stroke incidence than smoking status alone."
   ]
  },
  {
   "cell_type": "code",
   "execution_count": 73,
   "metadata": {
    "colab": {
     "base_uri": "https://localhost:8080/",
     "height": 1000
    },
    "id": "YRj3nG-mJ7qI",
    "outputId": "42c6f115-fae9-4f81-93e6-ee5eb454e844"
   },
   "outputs": [
    {
     "data": {
      "image/png": "[encoded data removed]",
      "text/plain": [
       "<Figure size 1500x1000 with 2 Axes>"
      ]
     },
     "metadata": {},
     "output_type": "display_data"
    }
   ],
   "source": [
    "# Select only the numeric columns\n",
    "numeric_df = df.select_dtypes(include=['float64', 'int64'])\n",
    "\n",
    "# Compute the correlation matrix\n",
    "correlation_matrix = numeric_df.corr()\n",
    "\n",
    "# Set up the matplotlib figure\n",
    "plt.figure(figsize=(15, 10))\n",
    "\n",
    "# Create a heatmap\n",
    "sns.heatmap(correlation_matrix, annot=True, cmap=\"coolwarm\", fmt=\".2f\", linewidths=0.8)\n",
    "plt.title(\"Correlation Heatmap of Healthcare Dataset\")\n",
    "plt.show()"
   ]
  },
  {
   "cell_type": "markdown",
   "metadata": {
    "id": "uAa5f5ynKcsb"
   },
   "source": [
    "### Observations:\n",
    "\n",
    "\n",
    "- Strong Correlations: High correlations (e.g., age with stroke) indicate strong relationships.\n",
    "- Weak Correlations: Values near 0 suggest independence between features."
   ]
  },
  {
   "cell_type": "markdown",
   "metadata": {
    "id": "R3i3xmfX99JO"
   },
   "source": [
    "## Data Encoding\n",
    "\n",
    "Data encoding is the process of converting **categorical data** into **numerical formats**"
   ]
  },
  {
   "cell_type": "markdown",
   "metadata": {
    "id": "Yd2giWOk9yaQ"
   },
   "source": [
    "**Convert Residence_type column to Rural/Urban col (0 = rural, 1 =urban)**"
   ]
  },
  {
   "cell_type": "code",
   "execution_count": 74,
   "metadata": {
    "id": "PjStI_Zu8Pz0"
   },
   "outputs": [],
   "source": [
    "# Encoding gender\n",
    "df['gender'] = df['gender'].apply(lambda x: 1 if x == 'Male' else 0)\n",
    "\n",
    "# Encoding ever_married\n",
    "df['ever_married'] = df['ever_married'].apply(lambda x: 1 if x == 'Yes' else 0)\n",
    "\n",
    "# Encoding Residence_type\n",
    "df['Residence_type'] = df['Residence_type'].apply(lambda x: 1 if x == 'Urban' else 0)\n",
    "\n",
    "df = pd.get_dummies(df, columns=['work_type', 'smoking_status'], drop_first=False)"
   ]
  },
  {
   "cell_type": "markdown",
   "metadata": {
    "id": "i8Igprx99PQP"
   },
   "source": [
    "**Observation:**\n",
    "\n",
    "The code encodes categorical variables (gender, ever_married, Residence_type) into binary format and uses one-hot encoding for work_type and smoking_status to prepare the data for analysis."
   ]
  },
  {
   "cell_type": "markdown",
   "metadata": {
    "id": "ah354CGi9AjY"
   },
   "source": [
    "**Convert work_type column to 3 or 4 different columns (Never_worked,Private,Self-employed)**"
   ]
  },
  {
   "cell_type": "code",
   "execution_count": 75,
   "metadata": {
    "colab": {
     "base_uri": "https://localhost:8080/",
     "height": 461
    },
    "id": "uc3e3B2-8TLS",
    "outputId": "ce9b86e3-35af-4364-e668-589361f51118"
   },
   "outputs": [
    {
     "data": {
      "text/html": [
       "<div>\n",
       "<style scoped>\n",
       "    .dataframe tbody tr th:only-of-type {\n",
       "        vertical-align: middle;\n",
       "    }\n",
       "\n",
       "    .dataframe tbody tr th {\n",
       "        vertical-align: top;\n",
       "    }\n",
       "\n",
       "    .dataframe thead th {\n",
       "        text-align: right;\n",
       "    }\n",
       "</style>\n",
       "<table border=\"1\" class=\"dataframe\">\n",
       "  <thead>\n",
       "    <tr style=\"text-align: right;\">\n",
       "      <th></th>\n",
       "      <th>id</th>\n",
       "      <th>gender</th>\n",
       "      <th>age</th>\n",
       "      <th>hypertension</th>\n",
       "      <th>heart_disease</th>\n",
       "      <th>ever_married</th>\n",
       "      <th>Residence_type</th>\n",
       "      <th>avg_glucose_level</th>\n",
       "      <th>bmi</th>\n",
       "      <th>stroke</th>\n",
       "      <th>work_type_Govt_job</th>\n",
       "      <th>work_type_Never_worked</th>\n",
       "      <th>work_type_Private</th>\n",
       "      <th>work_type_Self-employed</th>\n",
       "      <th>work_type_children</th>\n",
       "      <th>smoking_status_Unknown</th>\n",
       "      <th>smoking_status_formerly smoked</th>\n",
       "      <th>smoking_status_never smoked</th>\n",
       "      <th>smoking_status_smokes</th>\n",
       "    </tr>\n",
       "  </thead>\n",
       "  <tbody>\n",
       "    <tr>\n",
       "      <th>0</th>\n",
       "      <td>9046</td>\n",
       "      <td>1</td>\n",
       "      <td>67.0</td>\n",
       "      <td>0</td>\n",
       "      <td>1</td>\n",
       "      <td>1</td>\n",
       "      <td>1</td>\n",
       "      <td>228.69</td>\n",
       "      <td>36.6</td>\n",
       "      <td>1</td>\n",
       "      <td>0</td>\n",
       "      <td>0</td>\n",
       "      <td>1</td>\n",
       "      <td>0</td>\n",
       "      <td>0</td>\n",
       "      <td>0</td>\n",
       "      <td>1</td>\n",
       "      <td>0</td>\n",
       "      <td>0</td>\n",
       "    </tr>\n",
       "    <tr>\n",
       "      <th>1</th>\n",
       "      <td>51676</td>\n",
       "      <td>0</td>\n",
       "      <td>61.0</td>\n",
       "      <td>0</td>\n",
       "      <td>0</td>\n",
       "      <td>1</td>\n",
       "      <td>0</td>\n",
       "      <td>202.21</td>\n",
       "      <td>28.1</td>\n",
       "      <td>1</td>\n",
       "      <td>0</td>\n",
       "      <td>0</td>\n",
       "      <td>0</td>\n",
       "      <td>1</td>\n",
       "      <td>0</td>\n",
       "      <td>0</td>\n",
       "      <td>0</td>\n",
       "      <td>1</td>\n",
       "      <td>0</td>\n",
       "    </tr>\n",
       "    <tr>\n",
       "      <th>2</th>\n",
       "      <td>31112</td>\n",
       "      <td>1</td>\n",
       "      <td>80.0</td>\n",
       "      <td>0</td>\n",
       "      <td>1</td>\n",
       "      <td>1</td>\n",
       "      <td>0</td>\n",
       "      <td>105.92</td>\n",
       "      <td>32.5</td>\n",
       "      <td>1</td>\n",
       "      <td>0</td>\n",
       "      <td>0</td>\n",
       "      <td>1</td>\n",
       "      <td>0</td>\n",
       "      <td>0</td>\n",
       "      <td>0</td>\n",
       "      <td>0</td>\n",
       "      <td>1</td>\n",
       "      <td>0</td>\n",
       "    </tr>\n",
       "    <tr>\n",
       "      <th>3</th>\n",
       "      <td>60182</td>\n",
       "      <td>0</td>\n",
       "      <td>49.0</td>\n",
       "      <td>0</td>\n",
       "      <td>0</td>\n",
       "      <td>1</td>\n",
       "      <td>1</td>\n",
       "      <td>171.23</td>\n",
       "      <td>34.4</td>\n",
       "      <td>1</td>\n",
       "      <td>0</td>\n",
       "      <td>0</td>\n",
       "      <td>1</td>\n",
       "      <td>0</td>\n",
       "      <td>0</td>\n",
       "      <td>0</td>\n",
       "      <td>0</td>\n",
       "      <td>0</td>\n",
       "      <td>1</td>\n",
       "    </tr>\n",
       "    <tr>\n",
       "      <th>4</th>\n",
       "      <td>1665</td>\n",
       "      <td>0</td>\n",
       "      <td>79.0</td>\n",
       "      <td>1</td>\n",
       "      <td>0</td>\n",
       "      <td>1</td>\n",
       "      <td>0</td>\n",
       "      <td>174.12</td>\n",
       "      <td>24.0</td>\n",
       "      <td>1</td>\n",
       "      <td>0</td>\n",
       "      <td>0</td>\n",
       "      <td>0</td>\n",
       "      <td>1</td>\n",
       "      <td>0</td>\n",
       "      <td>0</td>\n",
       "      <td>0</td>\n",
       "      <td>1</td>\n",
       "      <td>0</td>\n",
       "    </tr>\n",
       "    <tr>\n",
       "      <th>...</th>\n",
       "      <td>...</td>\n",
       "      <td>...</td>\n",
       "      <td>...</td>\n",
       "      <td>...</td>\n",
       "      <td>...</td>\n",
       "      <td>...</td>\n",
       "      <td>...</td>\n",
       "      <td>...</td>\n",
       "      <td>...</td>\n",
       "      <td>...</td>\n",
       "      <td>...</td>\n",
       "      <td>...</td>\n",
       "      <td>...</td>\n",
       "      <td>...</td>\n",
       "      <td>...</td>\n",
       "      <td>...</td>\n",
       "      <td>...</td>\n",
       "      <td>...</td>\n",
       "      <td>...</td>\n",
       "    </tr>\n",
       "    <tr>\n",
       "      <th>5105</th>\n",
       "      <td>18234</td>\n",
       "      <td>0</td>\n",
       "      <td>80.0</td>\n",
       "      <td>1</td>\n",
       "      <td>0</td>\n",
       "      <td>1</td>\n",
       "      <td>1</td>\n",
       "      <td>83.75</td>\n",
       "      <td>28.1</td>\n",
       "      <td>0</td>\n",
       "      <td>0</td>\n",
       "      <td>0</td>\n",
       "      <td>1</td>\n",
       "      <td>0</td>\n",
       "      <td>0</td>\n",
       "      <td>0</td>\n",
       "      <td>0</td>\n",
       "      <td>1</td>\n",
       "      <td>0</td>\n",
       "    </tr>\n",
       "    <tr>\n",
       "      <th>5106</th>\n",
       "      <td>44873</td>\n",
       "      <td>0</td>\n",
       "      <td>81.0</td>\n",
       "      <td>0</td>\n",
       "      <td>0</td>\n",
       "      <td>1</td>\n",
       "      <td>1</td>\n",
       "      <td>125.20</td>\n",
       "      <td>40.0</td>\n",
       "      <td>0</td>\n",
       "      <td>0</td>\n",
       "      <td>0</td>\n",
       "      <td>0</td>\n",
       "      <td>1</td>\n",
       "      <td>0</td>\n",
       "      <td>0</td>\n",
       "      <td>0</td>\n",
       "      <td>1</td>\n",
       "      <td>0</td>\n",
       "    </tr>\n",
       "    <tr>\n",
       "      <th>5107</th>\n",
       "      <td>19723</td>\n",
       "      <td>0</td>\n",
       "      <td>35.0</td>\n",
       "      <td>0</td>\n",
       "      <td>0</td>\n",
       "      <td>1</td>\n",
       "      <td>0</td>\n",
       "      <td>82.99</td>\n",
       "      <td>30.6</td>\n",
       "      <td>0</td>\n",
       "      <td>0</td>\n",
       "      <td>0</td>\n",
       "      <td>0</td>\n",
       "      <td>1</td>\n",
       "      <td>0</td>\n",
       "      <td>0</td>\n",
       "      <td>0</td>\n",
       "      <td>1</td>\n",
       "      <td>0</td>\n",
       "    </tr>\n",
       "    <tr>\n",
       "      <th>5108</th>\n",
       "      <td>37544</td>\n",
       "      <td>1</td>\n",
       "      <td>51.0</td>\n",
       "      <td>0</td>\n",
       "      <td>0</td>\n",
       "      <td>1</td>\n",
       "      <td>0</td>\n",
       "      <td>166.29</td>\n",
       "      <td>25.6</td>\n",
       "      <td>0</td>\n",
       "      <td>0</td>\n",
       "      <td>0</td>\n",
       "      <td>1</td>\n",
       "      <td>0</td>\n",
       "      <td>0</td>\n",
       "      <td>0</td>\n",
       "      <td>1</td>\n",
       "      <td>0</td>\n",
       "      <td>0</td>\n",
       "    </tr>\n",
       "    <tr>\n",
       "      <th>5109</th>\n",
       "      <td>44679</td>\n",
       "      <td>0</td>\n",
       "      <td>44.0</td>\n",
       "      <td>0</td>\n",
       "      <td>0</td>\n",
       "      <td>1</td>\n",
       "      <td>1</td>\n",
       "      <td>85.28</td>\n",
       "      <td>26.2</td>\n",
       "      <td>0</td>\n",
       "      <td>1</td>\n",
       "      <td>0</td>\n",
       "      <td>0</td>\n",
       "      <td>0</td>\n",
       "      <td>0</td>\n",
       "      <td>1</td>\n",
       "      <td>0</td>\n",
       "      <td>0</td>\n",
       "      <td>0</td>\n",
       "    </tr>\n",
       "  </tbody>\n",
       "</table>\n",
       "<p>5110 rows × 19 columns</p>\n",
       "</div>"
      ],
      "text/plain": [
       "         id  gender   age  hypertension  heart_disease  ever_married  \\\n",
       "0      9046       1  67.0             0              1             1   \n",
       "1     51676       0  61.0             0              0             1   \n",
       "2     31112       1  80.0             0              1             1   \n",
       "3     60182       0  49.0             0              0             1   \n",
       "4      1665       0  79.0             1              0             1   \n",
       "...     ...     ...   ...           ...            ...           ...   \n",
       "5105  18234       0  80.0             1              0             1   \n",
       "5106  44873       0  81.0             0              0             1   \n",
       "5107  19723       0  35.0             0              0             1   \n",
       "5108  37544       1  51.0             0              0             1   \n",
       "5109  44679       0  44.0             0              0             1   \n",
       "\n",
       "      Residence_type  avg_glucose_level   bmi  stroke  work_type_Govt_job  \\\n",
       "0                  1             228.69  36.6       1                   0   \n",
       "1                  0             202.21  28.1       1                   0   \n",
       "2                  0             105.92  32.5       1                   0   \n",
       "3                  1             171.23  34.4       1                   0   \n",
       "4                  0             174.12  24.0       1                   0   \n",
       "...              ...                ...   ...     ...                 ...   \n",
       "5105               1              83.75  28.1       0                   0   \n",
       "5106               1             125.20  40.0       0                   0   \n",
       "5107               0              82.99  30.6       0                   0   \n",
       "5108               0             166.29  25.6       0                   0   \n",
       "5109               1              85.28  26.2       0                   1   \n",
       "\n",
       "      work_type_Never_worked  work_type_Private  work_type_Self-employed  \\\n",
       "0                          0                  1                        0   \n",
       "1                          0                  0                        1   \n",
       "2                          0                  1                        0   \n",
       "3                          0                  1                        0   \n",
       "4                          0                  0                        1   \n",
       "...                      ...                ...                      ...   \n",
       "5105                       0                  1                        0   \n",
       "5106                       0                  0                        1   \n",
       "5107                       0                  0                        1   \n",
       "5108                       0                  1                        0   \n",
       "5109                       0                  0                        0   \n",
       "\n",
       "      work_type_children  smoking_status_Unknown  \\\n",
       "0                      0                       0   \n",
       "1                      0                       0   \n",
       "2                      0                       0   \n",
       "3                      0                       0   \n",
       "4                      0                       0   \n",
       "...                  ...                     ...   \n",
       "5105                   0                       0   \n",
       "5106                   0                       0   \n",
       "5107                   0                       0   \n",
       "5108                   0                       0   \n",
       "5109                   0                       1   \n",
       "\n",
       "      smoking_status_formerly smoked  smoking_status_never smoked  \\\n",
       "0                                  1                            0   \n",
       "1                                  0                            1   \n",
       "2                                  0                            1   \n",
       "3                                  0                            0   \n",
       "4                                  0                            1   \n",
       "...                              ...                          ...   \n",
       "5105                               0                            1   \n",
       "5106                               0                            1   \n",
       "5107                               0                            1   \n",
       "5108                               1                            0   \n",
       "5109                               0                            0   \n",
       "\n",
       "      smoking_status_smokes  \n",
       "0                         0  \n",
       "1                         0  \n",
       "2                         0  \n",
       "3                         1  \n",
       "4                         0  \n",
       "...                     ...  \n",
       "5105                      0  \n",
       "5106                      0  \n",
       "5107                      0  \n",
       "5108                      0  \n",
       "5109                      0  \n",
       "\n",
       "[5110 rows x 19 columns]"
      ]
     },
     "execution_count": 75,
     "metadata": {},
     "output_type": "execute_result"
    }
   ],
   "source": [
    "# List of the columns we want to transform\n",
    "columns_to_transform = [\n",
    "    'work_type_Govt_job', 'work_type_Never_worked', 'work_type_Private',\n",
    "    'work_type_Self-employed', 'work_type_children', 'smoking_status_Unknown',\n",
    "    'smoking_status_formerly smoked', 'smoking_status_never smoked',\n",
    "    'smoking_status_smokes'\n",
    "]\n",
    "\n",
    "# Apply the transformation (True/False to 1/0) only on the specified columns\n",
    "df[columns_to_transform] = df[columns_to_transform].astype(int)\n",
    "\n",
    "df"
   ]
  },
  {
   "cell_type": "markdown",
   "metadata": {
    "id": "oBtDjwdN8nwd"
   },
   "source": [
    "**Observation:**\n",
    "\n",
    "The work_type column is transformed into three binary columns: Never_worked, Private, and Self_employed, each indicating presence (1) or absence (0) for a specific work category."
   ]
  },
  {
   "cell_type": "markdown",
   "metadata": {
    "id": "xN2za19xA9kL"
   },
   "source": [
    "## **Machine Learning Models:**\n",
    "\n",
    "Machine learning models learn from data to make predictions or decisions. They identify patterns, automate processes, and improve over time. ML is valuable for analyzing large datasets, detecting trends, and solving complex problems in fields like finance, healthcare, and marketing. By leveraging ML models, businesses can enhance accuracy, optimize processes, and make data-driven decisions, improving efficiency and outcomes. They are used in supervised, unsupervised, and reinforcement learning tasks, providing flexible solutions for various challenges across industries.\n",
    "\n",
    "**1.Linear Regression**\n",
    "\n",
    "**2.Lasso Regression**\n",
    "\n",
    "**3.Ridge Regression**\n",
    "\n",
    "**4.Logistic Regression**"
   ]
  },
  {
   "cell_type": "code",
   "execution_count": 76,
   "metadata": {
    "id": "Np6EMyp9GXkv"
   },
   "outputs": [],
   "source": [
    "# Separate the independent variables (X) and the target variable (y)\n",
    "X = df.drop(columns=['id', 'stroke']) # independent variables\n",
    "y = df['stroke']  # Target variable\n",
    "\n",
    "X_train, X_test, y_train, y_test = train_test_split(X, y, test_size=0.2, random_state=61)"
   ]
  },
  {
   "cell_type": "markdown",
   "metadata": {
    "id": "cWd39ayiGXkw"
   },
   "source": [
    "## Observation:\n",
    "\n",
    "It splits the data into independent variables (X) and the target variable (y). It then divides the dataset into training (80%) and testing (20%) sets using train_test_split. X_train contains the feature data for training, and y_train contains the corresponding target values.\n"
   ]
  },
  {
   "cell_type": "markdown",
   "metadata": {
    "id": "JNjTzBMbBxiX"
   },
   "source": [
    "#1. Linear Regression"
   ]
  },
  {
   "cell_type": "markdown",
   "metadata": {
    "id": "tvNwu7QsCIRl"
   },
   "source": [
    "Linear regression is a machine learning algorithm used to predict a continuous outcome based on one or more input features. It assumes that there is a linear relationship between the input variables and the target variable. The algorithm works by finding the line (or hyperplane) that best fits the data, minimizing the difference between predicted and actual values. Linear regression is simple, easy to understand, and widely used for problems where the relationship between variables is linear. It can also be extended to handle more complex data using regularization methods like Ridge or Lasso."
   ]
  },
  {
   "cell_type": "code",
   "execution_count": 77,
   "metadata": {
    "id": "0sPuc9q9GXky"
   },
   "outputs": [],
   "source": [
    "class LinearRegression:\n",
    "    def __init__(self, lr=0.0001, n_iters=1000):\n",
    "        self.lr = lr\n",
    "        self.n_iters = n_iters\n",
    "        self.weights = None\n",
    "        self.bias = None\n",
    "\n",
    "    def fit(self, X, y):\n",
    "        num_samples, num_features = X.shape\n",
    "        self.weights = np.zeros(num_features)\n",
    "        self.bias = 0\n",
    "\n",
    "        for _ in range(self.n_iters):\n",
    "            y_pred = np.dot(X, self.weights) + self.bias\n",
    "            dw = (1 / num_samples) * np.dot(X.T, (y_pred - y))\n",
    "            db = (1 / num_samples) * np.sum(y_pred - y)\n",
    "            self.weights -= self.lr * dw\n",
    "            self.bias -= self.lr * db\n",
    "\n",
    "    def predict(self, X):\n",
    "        return np.dot(X, self.weights) + self.bias\n",
    "\n",
    "    def score(self, X, y):\n",
    "        y_pred = self.predict(X)\n",
    "        total_variance = np.sum((y - np.mean(y))**2)\n",
    "        residual_variance = np.sum((y - y_pred)**2)\n",
    "        r2_score = 1 - (residual_variance / total_variance)\n",
    "        return r2_score"
   ]
  },
  {
   "cell_type": "code",
   "execution_count": 78,
   "metadata": {
    "id": "s5Es1fVY8Z8Q"
   },
   "outputs": [],
   "source": [
    "lin_reg_model = LinearRegression()"
   ]
  },
  {
   "cell_type": "code",
   "execution_count": 79,
   "metadata": {
    "id": "HqT6S-QtGXky"
   },
   "outputs": [],
   "source": [
    "lin_reg_model.fit(X_train, y_train)"
   ]
  },
  {
   "cell_type": "code",
   "execution_count": 80,
   "metadata": {
    "id": "RO1hBAQ7GXkz"
   },
   "outputs": [],
   "source": [
    "y_pred_lin_reg = lin_reg_model.predict(X_test)"
   ]
  },
  {
   "cell_type": "code",
   "execution_count": 81,
   "metadata": {
    "colab": {
     "base_uri": "https://localhost:8080/"
    },
    "id": "eEkwc1NoGXkz",
    "outputId": "f2df5a14-1723-4374-c8e0-f82d1b53a5e4"
   },
   "outputs": [
    {
     "name": "stdout",
     "output_type": "stream",
     "text": [
      "Linear Regression Accuracy 0.9422700587084148\n"
     ]
    }
   ],
   "source": [
    "print(\"Linear Regression Accuracy\",accuracy_score(y_test, y_pred_lin_reg.round()))"
   ]
  },
  {
   "cell_type": "code",
   "execution_count": 82,
   "metadata": {
    "colab": {
     "base_uri": "https://localhost:8080/"
    },
    "id": "jiP0bb0yBg_v",
    "outputId": "2ac049cb-eada-4aad-a4a8-8fc57052a1d4"
   },
   "outputs": [
    {
     "name": "stdout",
     "output_type": "stream",
     "text": [
      "Linear Regression RMSE: 0.22546108987324273\n"
     ]
    }
   ],
   "source": [
    "rmse_lin_reg = root_mean_squared_error(y_test, y_pred_lin_reg)\n",
    "print(\"Linear Regression RMSE:\", rmse_lin_reg)"
   ]
  },
  {
   "cell_type": "markdown",
   "metadata": {
    "id": "sWa2gsvkC1UB"
   },
   "source": [
    "### RMSE: 0.22\n",
    "\n",
    "### Accuracy:94"
   ]
  },
  {
   "cell_type": "markdown",
   "metadata": {
    "id": "D74PE0DJDDhM"
   },
   "source": [
    "## 2.Lasso Regression"
   ]
  },
  {
   "cell_type": "markdown",
   "metadata": {
    "id": "zfCuazuMDSoB"
   },
   "source": [
    "Lasso regression is a type of linear regression that helps prevent overfitting by adding a penalty to the model. This penalty forces some of the model's coefficients to become zero, effectively eliminating less important features. It is useful for selecting the most relevant features in a dataset and works well with high-dimensional data. The strength of the penalty is controlled by a parameter called alpha."
   ]
  },
  {
   "cell_type": "code",
   "execution_count": 83,
   "metadata": {
    "id": "UinktyNLCyS2"
   },
   "outputs": [],
   "source": [
    "class LassoRegression:\n",
    "    def __init__(self, lr=0.0001, n_iters=1000, alpha=0.1):\n",
    "        self.lr = lr\n",
    "        self.n_iters = n_iters\n",
    "        self.alpha = alpha\n",
    "        self.weights = None\n",
    "        self.bias = None\n",
    "\n",
    "    def fit(self, X, y):\n",
    "        num_samples, num_features = X.shape\n",
    "        self.weights = np.zeros(num_features)\n",
    "        self.bias = 0\n",
    "\n",
    "        for _ in range(self.n_iters):\n",
    "            y_pred = np.dot(X, self.weights) + self.bias\n",
    "            dw = (1 / num_samples) * np.dot(X.T, (y_pred - y)) + self.alpha * np.sign(self.weights)\n",
    "            db = (1 / num_samples) * np.sum(y_pred - y)\n",
    "            self.weights -= self.lr * dw\n",
    "            self.bias -= self.lr * db\n",
    "\n",
    "    def predict(self, X):\n",
    "        return np.dot(X, self.weights) + self.bias\n",
    "\n",
    "    def score(self, X, y):\n",
    "        y_pred = self.predict(X)\n",
    "        total_variance = np.sum((y - np.mean(y))**2)\n",
    "        residual_variance = np.sum((y - y_pred)**2)\n",
    "        r2_score = 1 - (residual_variance / total_variance)\n",
    "        return r2_score"
   ]
  },
  {
   "cell_type": "code",
   "execution_count": 84,
   "metadata": {
    "id": "TDLbC4kXDVhj"
   },
   "outputs": [],
   "source": [
    "lasso_reg=LassoRegression()\n",
    "lasso_reg.fit(X_train, y_train) # slope and intercept values are adjusted here"
   ]
  },
  {
   "cell_type": "code",
   "execution_count": 85,
   "metadata": {
    "colab": {
     "base_uri": "https://localhost:8080/"
    },
    "id": "QWZDthJyDZwq",
    "outputId": "6598a6c5-05b1-464c-d14a-7e0cee7f6a0e"
   },
   "outputs": [
    {
     "name": "stdout",
     "output_type": "stream",
     "text": [
      "RMSE for Lasso Regression: 0.4755885287353507\n"
     ]
    }
   ],
   "source": [
    "y_pred = lasso_reg.predict(X_test)\n",
    "\n",
    "# Calculating RMSE\n",
    "rmse = np.sqrt(root_mean_squared_error(y_test, y_pred))\n",
    "print(f\"RMSE for Lasso Regression: {rmse}\")"
   ]
  },
  {
   "cell_type": "code",
   "execution_count": 86,
   "metadata": {
    "colab": {
     "base_uri": "https://localhost:8080/"
    },
    "id": "ILnmeIzaDbdZ",
    "outputId": "56f8c48c-c112-42ec-ec2a-8a2e27cecd08"
   },
   "outputs": [
    {
     "data": {
      "text/plain": [
       "59.52127388552286"
      ]
     },
     "execution_count": 86,
     "metadata": {},
     "output_type": "execute_result"
    }
   ],
   "source": [
    "accuracy = lasso_reg.score(X_test, y_test) # model is tested in this and the accuracy is measured in r-square\n",
    "accuracy*1000"
   ]
  },
  {
   "cell_type": "markdown",
   "metadata": {
    "id": "d5p983JLDjF_"
   },
   "source": [
    "### RMSE: 0.47\n",
    "\n",
    "### Accuracy: 59.5"
   ]
  },
  {
   "cell_type": "markdown",
   "metadata": {
    "id": "2wz8X13dGXk2"
   },
   "source": [
    "## 3. Ridge Regression"
   ]
  },
  {
   "cell_type": "code",
   "execution_count": 87,
   "metadata": {
    "id": "z4RAEiM5GXk3"
   },
   "outputs": [],
   "source": [
    "class RidgeRegression:\n",
    "    def __init__(self, lr=0.0001, n_iters=1000, alpha=0.1):\n",
    "        self.lr = lr\n",
    "        self.n_iters = n_iters\n",
    "        self.alpha = alpha\n",
    "        self.weights = None\n",
    "        self.bias = None\n",
    "\n",
    "    def fit(self, X, y):\n",
    "        num_samples, num_features = X.shape\n",
    "        self.weights = np.zeros(num_features)\n",
    "        self.bias = 0\n",
    "\n",
    "        for _ in range(self.n_iters):\n",
    "            y_pred = np.dot(X, self.weights) + self.bias\n",
    "            dw = (1 / num_samples) * np.dot(X.T, (y_pred - y)) + (self.alpha / num_samples) * self.weights\n",
    "            db = (1 / num_samples) * np.sum(y_pred - y)\n",
    "            self.weights -= self.lr * dw\n",
    "            self.bias -= self.lr * db\n",
    "\n",
    "    def predict(self, X):\n",
    "        return np.dot(X, self.weights) + self.bias\n",
    "\n",
    "    def score(self, X, y):\n",
    "        y_pred = self.predict(X)\n",
    "        total_variance = np.sum((y - np.mean(y))**2)\n",
    "        residual_variance = np.sum((y - y_pred)**2)\n",
    "        r2_score = 1 - (residual_variance / total_variance)\n",
    "        return r2_score"
   ]
  },
  {
   "cell_type": "code",
   "execution_count": 88,
   "metadata": {
    "id": "k8LItzTJGXk3"
   },
   "outputs": [],
   "source": [
    "ridge_model = RidgeRegression()\n",
    "ridge_model.fit(X_train, y_train)"
   ]
  },
  {
   "cell_type": "code",
   "execution_count": 89,
   "metadata": {
    "id": "DpnVtCvmGXk3"
   },
   "outputs": [],
   "source": [
    "y_pred_ridge = ridge_model.predict(X_test)"
   ]
  },
  {
   "cell_type": "code",
   "execution_count": 90,
   "metadata": {
    "colab": {
     "base_uri": "https://localhost:8080/"
    },
    "id": "dFPwNdSaGXk4",
    "outputId": "2f17c7bf-bc8d-4913-f446-4471ccb4b1cc"
   },
   "outputs": [
    {
     "name": "stdout",
     "output_type": "stream",
     "text": [
      "0.22546109006861653\n"
     ]
    }
   ],
   "source": [
    "rmse_ridge = root_mean_squared_error(y_test, y_pred_ridge)\n",
    "print(rmse_ridge)"
   ]
  },
  {
   "cell_type": "code",
   "execution_count": 91,
   "metadata": {
    "colab": {
     "base_uri": "https://localhost:8080/"
    },
    "id": "8hKgOVfFOP03",
    "outputId": "e8f56b39-4e61-4747-bf84-e55a22c44210"
   },
   "outputs": [
    {
     "name": "stdout",
     "output_type": "stream",
     "text": [
      "Accuracy: 94.12915851272015\n"
     ]
    }
   ],
   "source": [
    "y_pred_class = (y_pred >= 0.14).astype(int)  # Convert predictions to binary classes (0 or 1)\n",
    "accuracy = accuracy_score(y_test, y_pred_class)\n",
    "print(\"Accuracy:\", accuracy*100)\n"
   ]
  },
  {
   "cell_type": "markdown",
   "metadata": {
    "id": "Dc159gpwOz7z"
   },
   "source": [
    "### RMSE: 0.22\n",
    "\n",
    "### Accuracy: 94"
   ]
  },
  {
   "cell_type": "markdown",
   "metadata": {
    "id": "ng2I639UM_ew"
   },
   "source": [
    "## Logistic Regression:\n",
    "\n",
    "Logistic regression is a statistical method used for binary classification. It predicts the probability of an outcome belonging to a category using a sigmoid function and finds optimal model coefficients.\n"
   ]
  },
  {
   "cell_type": "code",
   "execution_count": 92,
   "metadata": {
    "id": "Fir_JKP-D0uq"
   },
   "outputs": [],
   "source": [
    "class LogisticRegression:\n",
    "    def __init__(self, lr=0.001, n_iters=1000):\n",
    "        self.lr = lr\n",
    "        self.n_iters = n_iters\n",
    "        self.weights = None\n",
    "        self.bias = None\n",
    "\n",
    "    def sigmoid(self, z):\n",
    "        return 1 / (1 + np.exp(-z))\n",
    "\n",
    "    def fit(self, X, y):\n",
    "        num_samples, num_features = X.shape\n",
    "        self.weights = np.zeros(num_features)\n",
    "        self.bias = 0\n",
    "\n",
    "        for _ in range(self.n_iters):\n",
    "            model = np.dot(X, self.weights) + self.bias\n",
    "            y_pred = self.sigmoid(model)\n",
    "            dw = (1 / num_samples) * np.dot(X.T, (y_pred - y))\n",
    "            db = (1 / num_samples) * np.sum(y_pred - y)\n",
    "            self.weights -= self.lr * dw\n",
    "            self.bias -= self.lr * db\n",
    "\n",
    "    def predict(self, X):\n",
    "        linear_model = np.dot(X, self.weights) + self.bias\n",
    "        y_pred = self.sigmoid(linear_model)\n",
    "        predictions = []\n",
    "        for p in y_pred:\n",
    "            if p >= 0.5:\n",
    "                predictions.append(1)\n",
    "            else:\n",
    "                predictions.append(0)\n",
    "\n",
    "        return np.array(predictions)\n",
    "\n",
    "    def score(self, X, y):\n",
    "        y_pred = self.predict(X)\n",
    "        accuracy = np.mean(y_pred == y)\n",
    "        return accuracy\n"
   ]
  },
  {
   "cell_type": "code",
   "execution_count": 93,
   "metadata": {
    "id": "bfmMJLLoD2py"
   },
   "outputs": [],
   "source": [
    "log_reg_model = LogisticRegression()\n",
    "\n",
    "log_reg_model.fit(X_train, y_train)"
   ]
  },
  {
   "cell_type": "code",
   "execution_count": 94,
   "metadata": {},
   "outputs": [
    {
     "name": "stdout",
     "output_type": "stream",
     "text": [
      "RMSE for Lasso Regression: 0.49427624056933456\n"
     ]
    }
   ],
   "source": [
    "y_pred = log_reg_model.predict(X_test)\n",
    "\n",
    "# Calculating RMSE\n",
    "rmse = np.sqrt(root_mean_squared_error(y_test, y_pred))\n",
    "print(f\"RMSE for Lasso Regression: {rmse}\")"
   ]
  },
  {
   "cell_type": "code",
   "execution_count": 95,
   "metadata": {
    "colab": {
     "base_uri": "https://localhost:8080/"
    },
    "id": "RjCbQFuOD9gh",
    "outputId": "9b7b14ce-bd9f-4b21-bda7-fab10dfc889b"
   },
   "outputs": [
    {
     "data": {
      "text/plain": [
       "94.03131115459882"
      ]
     },
     "execution_count": 95,
     "metadata": {},
     "output_type": "execute_result"
    }
   ],
   "source": [
    "accuracy = log_reg_model.score(X_test, y_test) # model is tested in this and the accuracy is measured in r-square\n",
    "accuracy*100"
   ]
  },
  {
   "cell_type": "markdown",
   "metadata": {
    "id": "uE7qw_RXEDXp"
   },
   "source": [
    "### RMSE: 0.49\n",
    "### Accuracy: 94.0"
   ]
  },
  {
   "cell_type": "markdown",
   "metadata": {
    "id": "D7peGyDF8D8L"
   },
   "source": [
    "## RMSE and Accuracy Plotting:"
   ]
  },
  {
   "cell_type": "markdown",
   "metadata": {
    "id": "PtN4KwJfEjpB"
   },
   "source": [
    "**RMSE Plot**:\n",
    " This will show the RMSE values for Linear Regression, Lasso Regression, and Logistic Regression.\n",
    "\n",
    "![image.png](data:image/png;base64,iVBORw0KGgoAAAANSUhEUgAAAPYAAADNCAIAAAAEzRrxAAAgAElEQVR4Ae19b3AT19nvfuyHe99vej/4k29vZ/y26gx31NsP0tyGTralSlrlhYpOg8m2etNU+TMlCEK2IYg/ayisO9FYhKajuDi91TiAkSlBsJNQJmay8ZsNnghY4DVshusuM2l2Zu1hhAari8XkXJ99pKPVWrZlYxvLnP1gn12dP895zm+f85yz53keBtGLcmBFc4BZ0b2jnaMcQBTiFAQrnAMU4it8gGn3KMQpBlY4ByjEV/gA0+5RiFMMrHAOUIiv8AGm3aMQpxhY4RygEF/hA0y7RyFOMbDCOUAhvsIHmHaPQpxiYIVzgEJ8hQ8w7R6F+HwwIEmSTK9lyQFd110jSiHuYsjst7quMwzj9/sD9FpmHPB6vdls1jWEFOIuhsx+K8tyKBQq0GtZcsCyLNcQUoi7GDL7rSiK8Xh89nw0x/LgAIX4nMeB47hMJjPnYrTAQ+IAhfjcGF8sFv1+v2EYcys2Y27Lskz7KhQKJKNpmvCcPKEJwoFSqUTSsyYoxGdlUU0GTdP8fn+xWKx5+mA3mqbF7EsQBBg8TdMikUg8Hg+Hw6ZpPlj1K6p0oVDIZrOiKGYymQY5QyE+NwRks9lgMDi3MrPlLhaL6XQ6HA57PJ5cLocQKhQKmUwmGo3mcrmp66fZ6lvJv6dSqWg0KgiCx+OJx+POeW+6blOIT8eZ+s+TyWQ0Gq3/2wM8TafTmUymtbVVFEWoJpPJpNPpB6hyBRbVNK21tRXYkk6nGYZRFGXWflKIz8qimgw8z6dSqZpHCM1JNXSVhVtRFFVVFQTB5/NpmoYQikQisizXzfzIPtR1PRaLSZKEEJJlmWGYRlhEIT4HwBQKBY7jXJJD1/VkMplKpZLJpCiKgn3F7QvSgiCI9pVIJJL25dqQMU0zHo8bhqGqqsfjSafTpVKJZdkHX9SqqprJZB78DZwDj2bLqut6I6qXpmmZTGbqmqdYLEJ3UqlUS0sLiIOZ26QQn5k/Nb/qus6yrOsTsa7rwWCQYZhwOCxJUjabhb9p+xIEgbevYDDo8XgY+2pra3PWq6qqKIpF+4pEIsFgMJfLhUIhZ555pHVdD4VCU+eceVS1UEUMw+A4rpGvCrqucxyXTCbrNq3rOmgsjby9FOJ1eVj/YS6XCwaDU5c4iqJ4vV6GYWbGU7FYzGQygUCAYRjnd+ZMJkMKwvzL8zxRyuuTMtvTYrHIsmw0Gp1K7WxFF+t3VVWBJJ/PF4vFZiUsl8t5PB7XjDepwum6HggEJEkqFouzVoIQdRU0lwHNZrPRaHTq7IkQymQyDMO0tbXNqh3CVMDzPGk5EomAfokQ0jQtEAj4/X7YWiF55pqAxauqqnMtuEj5LcuKRCKAbFVVw+HwVOxObVoURde0CXMmlBVF0aU0Tq2BQrwuT6Z9mLKv6X6ORqMMw4RCoVl1aEVRYFmp63o6nW5rayN6Z6lUEgShpaWlEYV1OkoMwwB5OV2Gh/Jc0zQidA37mpUMOPGWSqVAITFNMxKJMAwDnxFaWloaeYepojIrn8sZisViNBp1KhiukjCBMgzTyK4irLqy2SzHcSzLko0UhJCiKBzHuSqf0202m2UYZmXsOXo8Ho7jQGpomhYKhTiOC9tXKBRyrYvqcolCvC5b6jw0TXNW/WFyoenz+WZVyuvUvnCPSqWSKIoMw0z9+KdpWjwe5zhOkiRN02Ad3IggfHDqVFWNx+PRaDSTyRiGkUwmyfbfzJVPfsj0er2N7JxMVw+F+HSccT8HLXlmsVEqlVKpFMMwXq+3ETXR3cZC3JdKpXg8zjDukQUNOJVKJRKJyXPVPp9v8jyZ1+tlWZboDwvRfp064NRDwr5aW1sjkQhMXAzDzNo0zEizrnDqtFp55GZE5Tn97+aAJEmRSETX77h/qL2HvXOGYcj0Wvv7ot+BwurxeJwtwQYirNJUVW1tbWVZVlEU2MQk761pmg+4zHU2CulCoRCNRmOxGCymffZFpjsy1ZRKJVVVpyI+l8sxDEOW41Prn/UJhfisLCpn4Hn+tc17X3gB7dkzSxHDMNra2hiGEQRhlqyL8LNhGOFw2O/3O+vWNC0ajQKeJEliGAa2nDOZjHO2SSQSM5zAURQllUql02n460xAOpVKTV1qwydJZ9OxWKxUKmWzWadsTqfTPp9vqtakqurkrNjI9ouzv840hbiTGzOlWZZNpVJDQ+j//b+ZssFvML1GIpFGvk3MXt1ccoDAZlm2biHLsnieZximrnar63rd58g+pJDJZGArY7q/0WiUTAhTWy+VSslkcjqRbFlW3QmEQnwqJxfrSWtra+PTpSAIM4+3k0rDMOrKP2ceki4UCrlcboaNHVAMWltbSRFIGIYBlmh+v9/r9YK4NQwDgGVZFnyUdZVakFs4DV8sFmOxGNG/C4UCkeLQo7ofHEBRmaG/s1JIpfisLMIZCoXC5DppBhHlrGXy2OCcNgHgi+Z04tNZcyqVisVi4XB4hs/7RE47C8J2G8/zsNPMcRzgCQ7PIIQkSYrH48Fg8EFUAmeLJK1pGsdx8ML77Qt+SqfT0AtFUSZ3Y30+X91dTlCrKMQJPxcrIcsyy7KNaB3ZbNbj8TgV3EZoavBDj2VZmqbBrvAM1SYSCdemIXx8BQUDFgmFQkGSpGAwqKpqqVRqa2tLp9OTAn7BIQ5Nh8NhOP4KBiWKosB6F7Y4YfVJTjE4u5ZIJDwez1Qd3Zln5vRSS/FCoWAYBoyoZVlTV9Azk/uwfm3wmLgsy9NJIxflkiSBqiDZV4PzA0LINM1ZIQ4rAadalcvlQJSGw+FUKhUIBMLhMJz0AMJ0XYdv/gs+IqqqTh4sC4VCsVgsmUzCtxuWZYG8YrEoyzJ84q3LhMlvEY18MHax13mLIW4YRjqdJidCk8lkIpFIpVKZTMY1exYKBcgJ50IlSaor2LLZLHzrhjqhPcuyMpkMnKTjeR6W5zABZbNZyAlHUuHEaTKZnJzLcrncgjPd2f8G07FYrK6McRaHz+bJZHJWkSxJEsuypmnKsuz1esGMpVQqSZJETt6CCkH+ptNp4ANsmITDYWfTrrRhGJPC0nkMplQq6bquKIqu64VCQdM0SJPhA0U5Ho9PHXRX5XO9hZlHlmVAsKZpJE2qgg9Ssiy7pLVpmgzDwDFMknmuCQxxmPvgBNzkITifz8eybCAQaGlpaW1tdY6ZaZrRaDQQCMC5UL/fT/Y1ScNwzIhhmNbW1mAw6PP5EEKWZYExEhydEUXR4/G0tLQAbgRB8Pv9sNHW0tLCsmwwGIRbj8dDdrtIE0ucsCwLDrjO3G40Go3H43XXTM6Cmqb5fD44SBiLxTKZTDAYhC08ODKu2ZeqqrlcjqR1XQc4NgJxhJAoij6fr65cdBJD0rBZLstyIBBovBQp/iAJXdf9fj+87WQBChU2btozAwFVRaVYLMKHAKfkhk/BU0EGXpDqml2k02mWZRmGCQaDZJcUaHWuJ6Y+AQ3SKXuKxSI8DIfDpKoZOrNIP+m67vP5ZphMCoWCIAgcxxUKBTjhWdeLjqqqyWQSjt0SJudyudbWVtDdLcsyDAP2H+xzStU/pPUGIW5ZViAQiMfjs04pwDTDMKLRaDgcTiQSi8TG6aotlUqJRMJp1Ac5nWZs05Vt5HkV4jApTJ6Vc25PwgK8tbXV9XqxLAsbQK4DQ7BjBTuvwWAQ5EGxWIRPymRcQa63tbU5Z394nZwQRwiRsg3aojbS57nmAdk2XalisQjbvVHHxXFcJBIB9TcajXIcRyZJ+LxPNASe56PRaDqdBoFNikx+SSUXeG6BIo3o4kAqKMGNLx+L9jVdNxf7uWvqME0zFotFo9EGX9EZyKsDcac+VCgUQLQ71y4IIZZlRVH0+/0Mwzjlq6qqgUAAhpxAHLQUUKqcpLjOptaFOCwV4Ci2891z1rMgadhhIMhz1plOpyORiPOJMw1f7xzwnjYZs69oNOp8sWEdFggEoHfGNBdI8VwuB9sgAHqnyHCSRNKyLDcuyEmp5ZBQFEUQhKlq8DxomwXisCsZCARc3ITFOIDSOWDpdDqRSEApAnFiMQAnfZPJ5OQxt2Kx6NpRmQ7iCCFQ/RsXSPNgBOzO1pUZoig6VayplUNfrIYv54uUTqdbWlpmrp+0mEqlYFM8GAz6/f5GSs26NiCVL6tEqVSqOxbzILIOxNPptKIosiwLgtDa2grePFxVBwIByOPxeIitV6lUghN28C3DCXHDMECxgTkBTAec0wWskOAdcLWFEIITqqIoOsEB2Uql0uRWXXa2a7rNH9IWLI5d0yV89IlGoy49jZSiieXPATfEPR4Pz/NgVOvxeKZq4dClQCAgyzLoheTUweQmQCgUgp1OWG46EWOaJqxEYauEYRiWZZ26B0hxOJLmYhwosnXnXMuyUqkUsXV3JWDTTRAEYjniqhluYSO5ra3N9daBpWA4HHZNYnUroQ+XJwfcEIflJkwTsOkxuXJyIhW6ARBHCMHxaNgCEwQBNr+mSnHSeV3XVVUlZylFUSTz0QyKSmtr6wx2BlNFO2mukYRlWRzHQRNTpTUcs3auN0idxFEbKNn070PkwAyG2HUgTiRZoVCA7b+pJwQIxGE9Cqsl4vrDBfHJrTSe513o0TStpaXF6bNvOoiXSqW6S14CtVJjF8nvSmSz2VAoFA6HXYbxkE2SpFgsVlejVRQF/KXQvw+dAzOY9NeBODlfMXm+MRQK1RWfBOIIIY7jwIsIsVmcCnGO45yrUjicCR+YiICcDuJkMiE5nRiFQw515QcYbvE8H4vFBEEg04WreCqVgoUHwzCJRMI1Jzg/0DoL0nSzcKAKcbI/6JTiINsmrQEmnQRMfgEBcV4qlWC5CZ2E/ROikRNnXGS5WSgUYB/AiVFozvnyTf30gxBSVdXv97e2tmazWRf4CIsnP4xlMpmpC0779Af+4zp9TwpCwjRNOKEPpjpOgV0qlcDc0FWE3jYRBzDEDcMAJ5GgD0za9pGDCqBq+3w+MCkNBAKZTIZ86QAHuGC3C+eADcMA37gQDWfSlCObzQLEQdLLsgwnsWCDBd4ZSZIymQyZDQCR6XQ6Ho/D2lSW5enwvVC8hqP3rq+YxWIxGAy6VKyFapHWszQcwBAHb9agjxLzfVBX4CPT5NZHKBTyer2pVCoej5OcsF8O1hyw0IRPP1AJSG74rA2yEDyEtNqXz+cjG3mCIASDQdJ0qHJxHJdOp52yf/GYAj7EGIZxrq3renhbPBqWpuZisZjL5WDPV1EU5+cVwzBg6oNgbE5WLA1ti9FKWVEhCzZQWJ2TNcQqmPSyRzb4SqUSZKir3cJDELpQrWVZiqLA97lJsyuoyslZy7IIAYVCgaTr1r8YXID9b3BNSPQ00Lg4jltKMhapd85qdV3neR46S4w4IQOsvBmGmfR0PinUFvVbm5OkRU1XdfFFbWb5V06MZZzjmkgkXGdmln9HGqQQFvEtLS1er5ec8YLvAHDkHWRNg7Ut52wU4tXRgVF3ms1HIhHXRlA1d5OnwEAOthOcbzUcbXVOZU3eUeq20zGAsDVEzCJh42hFrjULhQJ49oLPuoFAgChj6XQalk8OxjR3kkrx6vgpitLa2ur1emEhMWnr5fV6nWuGatYmTymK0tLSUiqVwMWX89x/JBJZ+iPji8pOCvEqezVNg6+5oJtKkhQIBBZ7s7La/BKmUqkUTFaWZcFRflDPJr8PTDqrmvoxewlJW/imKMSrPAV7DoZhQBNNpVIzHBOvFmvCVDweh01e8p0O9n/Bj9fK2Cskw0IhTliBo1IJgkDcFjdiklwt3DypSfdAoVCILCiLxSIsOiFyi8uMq3m6NS2lFOI1rIGvuYIgTDqdCoVC5LhOTaYmv4GAJM4ParDo5OxrhSniNEqEG63g1yYajaqqOicLdndFy/hekqRwOOzcC5+MZOv1esG0inzgW8Y9mBtpVIrX8CuXy7W0tECgsyVwvF3T9pLcWJYVjUaJIk7ahOmrpaXF+WGb/NrUCQrxmuEzTRMcYIONcc1vTX4DR1MymUxLS4sgCC4dTNO0tra2mT0QNSkDKMRrBq5QKICXokAg0Ijxb03h5X2j63o4HJ48lgzvsMt1baFQiMViK6zLMCAU4m5gQuA1j8fj8qvhztds96VSyTRNpw8LVw9M01x5WgpdbrpGGd+C8VFdU+U6uemjZc8BKsXdQwSbKk5vde4c9L6pOEAh7h4uTdMYhpm0+1yRs7a7t4/APYW4e5DBt+NUO2V3PnrfJBygEK8zUF6vd0XuLdTp6iPwiEK8ziBns1nn9+06Oeij5uEAhXjzjBWldF4coBCfF9tooebhAIV484wVpXReHKAQnxfbaKHm4QCFePOMFaV0XhygEJ8X22ih5uEAhXjzjBWldF4coBCfF9tooebhAIV484wVpXReHKAQnxfbaKHm4QCFePOMFaV0XhygEJ8X22ih5uEAhXjzjBWldF4coBCfF9tooebhAIV484wVpXReHKAQnxfbaKHm4UANxEmQHZJwdWS655Bt6q+FQgH8c8NPEG6TZCMPXa3QW8qBBeRADcTj8bggCPF4HIKygu8Y4ooXglDGYrFoNDrV7kuWZRJC1zAMCE0fCoVYlhUEgef5TCYD/migfghWz/N8Op0mXlIXsGO0KsoB4EANxCVJIiGMIRYmz/MsyxLnYJIk8Tzv8XggEidhIsQuZBgmFotJklQoFNLpNERY1jQN/OVBbNhsNhuJRMDBMQR9jcViXq93hfnlIZyhiYfOgRqIE4fqJL4RxDgOh8PEljGTyYC/KJIHISRJUjQabWlpIcGfWJaNx+PQvWKx6IxBDIgnAUZgcmhpaVmRUXUe+gBTAmaBuGVZEPWYQDydTguC0NbWFo1GSfRN0b5aW1sB4qVSieO4YDCoqirkgYClwG4XxBFCpmm2tLT4/X6nR+CFHZtCoXBvYWtcrrUVCgUSm2pmGgv2VS/PRKFQuI9wTAGInl4vT9M8qw/xZDKpqmoulxMEAcIckw4BxEVRnHRSDL6oNU3jOE6SJKcUB59S8Hpks1lN00gNAHHyzkBY11Ao1NLS4sxG8i9EYqLnxR//zViImpZ7HeN9+zcduzjaCJk3TnXXzzl6SexIDk8glB/JZrO38o1Utnzz1IG4x+OB5SYoJKIoOkM6AcQhYjzI7Gw2m0qlVFX1eDxEUYHlJkSHAqCTNWVdiENbZGk7G8PGPhq4qpzu3NHVm/vyK3TvmiAIYkeyOmD5kROH3xAE4dgHN+4jdONUd8j3jXbxpHO0SiODxz64caW/QxCEzJV/mrk+QRAOnLlZ7qyjhjtAzeilTn6nKIq793TbL8vYxyfkC0qvIAg7unqdNdvZJ/LXz2OqRBFTaF/Ku12CIBz5dOjjE/LwBMpfPw/kofyIJElQA5AhCEL6r5fvIVQaGTzy6VDfrp3JsxfuIAS/7t7TfXYMqqz+zV8/v5ffKnYk4/F4mQ/3rvXt2gmdQmhcPXe6QskEpPPXz5efjF4CUvcd+vAOQlf6O1iWfYE/atgqqJOw3Xu6MfQRJh4Iw0xu7I2q0rq0qToQZxgmk8lAXPBoNOr3+53CFSAOAWJ8Ph8sNDVNc0EcNgQLhYKu67CEJW7bpyoqhUIB/AI7RPvE8S1rWJYN2tfqYPuBMzfvV1mjJ58LbXt7CCv0o5d2bmhPfz6ev35+e/Tl9OfjCI0DJnQdZ7MHYCz5XChz5Z+OGlBe7lodbD92cdTM9YVCuDY0eonU0NuxJXn2gmEYffs3HThzE927tnMDzozQ7eNb1uDMSO958ce+17MoP9K3f5P9pEqfMXxk957u3JdfGcNHNm/cNzyBvjj1avD5w6ZpKu92fYd56uMJjKRtbw9h9Sk/0snvzH35VV7uWhc7lPvyq7vmwM/+NZy58k90sdu/5qW/GehWHlmXe17gj5qmaeb6AmtTzjnJGD6y7ZUeXb+jnO781teftunUD3LP40R+BJgAzWES8yNiRzL35VfKwciBMzfvmgPPPPkfNt/0g+ueCL1zFY1eem3zXii7l9+a+/Ir63LPutihvxmYacHnD+P3U+763qon05+Pm7m+Z3+yHXBf7f9yStWHONkTTCaTJLwTkA0Qdy5MY7EYQiiXyxEpXiqVWltbiU9AiEwQDAbhyVSIa5rm9Xqj0WiDSiRCePxA8bjS3/Gjt64CbXm5y/d61hg+AhIIhM3uPd13EKqjqFzsZrf0Y9Dfu/a74Asf28Lp7yf37Hp/FBCjaZqu68MDJ3nhDxUhPa7runIwYrdYpQHadQ6rMXzktc17c19+VSmI0WPDCN01B579yfa6EIcaQC708Gu7lQIiRCI99dPn0p9jAgzDGOxcvet9oo1MAFjtF3gCFJUvTr36o7euGoaB8w8feSF6/K45sHnjPsMWwDu6eu8gBKUqZOOaB99cD10TO5KY8vzIXn7r8AQ6vmUNJsa+oGlHl/UTr+yArlWqWl7/60Oc7JaAACYKCUIonU5DWHhd14PBoNfrBQ3ECXHLsgKBAKkEIM7zPOgALkXFMAyO4wKBANFkbA5NDA+czDiuyiQL7MPwAoGtHIyQwbYu9/zorat5uQsmXIC42JGsQtxWLjOZzLGLo3m5i93Sj4XovWt71gggh670d+x6H/8UDP4ikUgk7evYBzdgop8M9bR7T3ec8xOIw9BWxnvs42NHceU4P6a/h1/LrNv70cBVlB/5XfCFinYx9vaTm+tD3NaO4vF4IpEIh8ME4kBk59M/3dHVCyQlk1gMV6BUhrV9O66823Xs4ujIX37+WPs2ktkmCU9l6c/HsQpu628ViN9Wz51+6/ebeeEPuznfVIh/9o/PxMd/SEAMUqDSZQTihvxaIWkZ/a+BuCAIwWCQYRiWZUVRNAwD3LSGw+FsNju5hcLzvN/vZxhm8mtOsVhMJBIQWxqiSkNBQRB0XW9rawsEAjzPZ7PZeDzu8/lyuRxgPRAIMAwDtcViMZZlY7GYqqpOjR8hNDxwUnZcul5WiW3mEYhPVOdfhGfPWaR4fkRRFFmWdf3ODBCHecDZHhqTvhnap6rqPYRVjmkgfhvoxZguX7cVRdnLbz3y6RCR4gjpMGkA5Vj0VhSVL069ShYMg52rayCOqvNApXLyf1opTnJA4otTr/pez771+822JlOR4rf61r/4R03T7iE08pefT4X48ATq/SU7gxSviBtXa8vltgbioFLncjnNvkBtUBRFFMVIJAIPVVXVNA32UgqFAmjPuq7DQ8hTKBR4nldVNZFIxGIxQRBAQpdKJSgOf6E5TdPmvldIII7Q6KVnnvwPLCArSjnKj5TVUDQh7diANWlUb0fF1gFcUrw8JzhqMHN9+w59eH/4PVB/SyODzz757WkgXh1U0MVtLWVs54Z20LNh0rjS3wG6uJnrCz5/uFgsGsNHvvX1p0E53vb20H37Xf2a19YNCJH2w4oK7oa7mevbvaf7Vh5BVRjB96795rsbAMp/P7kHqr1rDoSY/74udgjUJ5Di1uUeIKw0Mvjav/8LgTieJWxFBYgHFRzd6vOveQl0cbwOwZdjLKoMWEapGogvI7pmIQWrBGQT8K45wHFceYUEBfMjXb+NcByXeGcQgxihv5/cs3FrwjG5o/vD71V+1Y/87gis3sg+WmlkEGoguyWDb67nOA4v+GzQGwgRGvLXzyfeGawleVw53clxHP7mdeWf8BPUIBzav2eNYKv+Y8q7XZOhXHfv6a7sqNzu27+J47jQO1ev9Hcc++BGaWSwQiSu44tTr0J0TCJTK41ivWh79OVtr/QMDZ2DbhrDR7ZHX45EIs6lcN/+TbBXg+yNJngHrvR3cBzXLp40c33bXum5Y/8Eq+R0Og3vQ17GpMJD/Ckj11fpcs1YVOhZRv+bFOLLiINzJsWxup1zWVpg7hygEJ87zx6whK1CwAbOA9ZEizfCAQrxRri0wHlcC+sFrp1WV8sBCvFaftC7FccBCvEVN6S0Q7UcoBCv5Qe9W3EcoBBfcUNKO1TLAQrxWn7QuxXHAQrxFTektEO1HKAQr+UHvVtxHKgD8VKppGkasa1ccV2mHXq0OFAH4nC6kNjvPFr8oL1dcRyoA/FCoSBJktPSZ8X1mnboEeKAG+LFYrFQKKywL8ylUmk6e6KpHrksy3Lav9XDwkSxWJwtT71y9NnD4EANxCdNuSKRSFtb2+QJz4dBzGK1mZe77FPjU+uf6OHXksOu9s/6G//7f8xsw3LXHKhYKE+tkD5ZdhyogXg0GhVFMRaL+f3+5SzI89fPE8sabMduW4Dnr59P2dexD24Q2/WPjx3FNmzT5EFo4vDOJ3Z09aZSqeP9A2BXT8xzoMKOt6dY1+dHPhq4WmMTtOyGlRJU5UANxHO5nKqqYGlWzfJwUthgJxwOgwUAx3Flfww2MWYO22LZIJvI/Slx4MzNvNy1cWviyKdDF5Ten/1rGFtL2LbrRz4dupUv22uVRgY3bk0oijI8cLJiTj/x518x2Og9l1MOgunAGEAc7GhUVVXPnSZWEWVOjEncD/YuZ5vzhzNiy7XVGogjhMDFj6qqczc2W8ouVoypKv4SoG3LsgqFgtN2HUx+KiaJkGsC3EKUDd6IomJ7mNCQdXDdE8cujp44/Eby7AWbCbf7du2s0XPGpF8+JVKIL+V4P0hbNRA3DINlWZ7nZVl+6Or4jObJZRvh/PXz4C8B5UeGB07u5bfyPB8KYZcp4J6hFuLjQ0Pnun4b4Xl+w+NPAcT79m8qW7vZtnCf/eMzgHgPvzYajYKv3d17uokRHeY1hfiDIG7Jy9aBOFjFP2wnmtgYMeu4ai3wEbqFPdQMDZ1L//XyfduoEZzsIIQG31xfa7uOFZXQO1fNXB/2mGV7gFDehQUods9QXm7aZvBEivft2lkDa+fAUIg7ubHs0zUQL5VK4MfwYeO7Ebbd7v0ly6yznTbZsC57U7nY/TXvmqlSHAx+wVAX+39iVoEU//OvGFBCvjj16qEU+j8AABjcSURBVAv8UYTGYEflSn9HxcJ8rG/XzooLFJswCvFGxmfZ5KmB+LKhqiFCYIkJ9uEoPzLp7yoQCPzorat/P7nnwJmb2Jgc3KnZMt5+Acb69m8KBAIbtyaGhs5te3vIsqwPj76WSCQ2PP7U+hf/CDsqFfk9nvtTgmVZ/5qXjl0cde6C3zUHtr3SQ3XxhgZpGWRqYogvA+5REpqAAxTiTTBIlMQH4QCF+INwj5ZtAg5QiDfBIFESH4QDFOIPwj1atgk4QCHeBINESXwQDlCIPwj3aNkm4ACFeBMMEiXxQThAIf4g3KNlm4ADFOJNMEiUxAfhQB2Iy7JMYsQQO/xsNisIQjwehwApD9IkLUs5sJQcqANxTdMgUBvDMMQOX1GUQCDg9/tTqRTB/VISStuiHJgfB+pAHIdv0XWfz8eyrMfjIfWyLEsQTx7SBOXAMudAfYhDmDWIHpjNQtQiBFHXlnl/KHmUAy4O1Ic4xLTXNK2trS0cDpdKJV3XWZZ1FW7a23FnKMMH7UV+pIdfy7LVsH0PWuHM5W1bvvIR4hlzQkCsGbPM9COOYMifBbMpV74bp7qdQbZcvzZ+e9cc+N3WdN1jyRAzbEFswOtA3DTNQCAACncsFmMYRpZliLvZOPWLnPP2tf/8r6Ghc5lM5nj/ANgpq6pKzo5f+8//umOHCcZxD8+dBut6iFVrm7HhaJ07unqz2ezx/oEqXPIjEMuWmLppmgY2/DUjPXoJ2rUL4lCu0Wg0/dfL1fGwTfSBPPAOgLlRW3mxWBwaOifLciaTkWW5WrbMuDHSQVxDpUU727iqqnaiEsm2HIIeR7Z3EIbD1GMK8yNHPh2CvjuJyWazkiTlcjldv+M8DY8QrvZ4/8CHR1/zvZ61fxqTJAlqto/U670dWzZuTdhWUeUIwNlstsw0MvD5kVt5HDz1eP9A9adKaN/KE9zNOwipqkpG0+aqswlXN0kDjSbqQHyy56FQCCpQFAUCyU6GhyUaS6N1P1A+bHIWi8V4uIQ/1Nol6J1P/7RdPDk0dG4vv9U22xnv7dgCQwjhvQ2EPun4t3WxQ4qiHN+yZuPWxPH+gSv9HYG1qTsIx5//DvPUW4MffXzsaDn+971rnfzO4/0DQ0PnXtu8FzP6Yvdj7duO9w/o+p0qxEcvHeSeP/LpkPJu17ZXejRk3TjVHYvFjn1wowrTMek7zFPJsxcuKL3P/mS7DQU8ZruynwwPnHxt8178JD+ym/Pt6OrF+1fPhWp7h81Df/av4eTZC8rpTv+al8SO5NDQuc6nf4qtmewA9cMTqG//psQ7g0ND57ZHX/6bgaME7t7TrSjKicNvgIglYTVXB9uPfXADqsIiMz/St2tn8uwFWZZf+/d/Cb1ztdo7dLu3Y8u+Qx8OD5yshBfFdiS7sp8MDZ3r7dhiR+XETyDCo3IwsqOrV1EU5WCEhPOEYbcjUAePfXADuozNpmzTQeDw7j3dGOW2LwMNWee3P7v+xT8qitLbsaVdPIlQuQlXN8smiHPEVR2Ix2KxyUjYpJ5gMOjz+bxer67r5OESJMAvV6Fy1bqzqljgVyImI1QH4tVA8bf6At9PgARyB+dGY/BugK0Q9OtKf0finUESc9XR2XFpx4ZKPHIcsxinRy8lk3bEeJLPYfkGNDjM5HAEUGwyV4naiuz3jUQ0L9dRrWHi+JY10GI5arMNcQ1ZyedsK2yELMu6Z1dC4muWYwIfjBw4c9O63BN8/jBI/d5fspkr/zRzfWWbbjQOrjWqEK8yChuAgxQnrr/MXB8Y+0HQzXsIkZ/umgP8M687rV0dEcTLjIIIt3ZbeBY9cOYmDpj6g70asghX7w+/B+5DKnE9cUxgQDZ0k/C48YQb4sViMRgMOj1MyLLMMEwoFCoWi43X++A5IbYy9mRiX/b8RWqdM8R9/Fl7ztUB4hXzZIQQ1st3vT/6Sce/rQ62R6PRSCSCo9R+cKMexPW+XTuJr6wvTr266/3R0sig2DETxA+cuQlNAPXW5Z6pEN/29pBpmjn7wj2thTi0mJe7sBC1IX4rj6zLPRzHeVb9GnzFoPzIW7/fHAqFiDQlUhyCIyM0RiCeeGfQBn05vDqBOARNL+stt/qAaYZhKKc7g8FfPPvkt338WYjdXq6h4viA47jH2rdV1A/c0bzcRV45eFuAHmDC8MDJxDuD00HcqISuvYOmdJNAoOFEDcQlSQLlO5FIQEhvHCfXVs2TyWTDdS5IRqzkpVKpdOVyss8ZlLoiLWaR4pWVUw3E7bHEAYsPnLk5+Ob6iniu0O8Izl15hEU+iVw8J4iT8S4TXCvF8a/5kXQ6nUqlsLrVAMRtksaHB0728Gt/9NbVMi5HL504/AbE8K4L8W6lAALShnh52U0gji52r3rpTFnjutiNAW3rb6lUykA43rStRWANG3Sh41vWtIsn8Ttpx8t1SXFbq8FkwvwD9Nh0TsCCtRGI293EYOjh1/pez1ZJrQzJrP9rIJ7L5ST7ymazRC2BwPUQ637W6pYqQx0pXgl3j11KrIsdMhByKiouiBOlHIRi7suvjOEj61/8I8wVeC/i4qjTEwvpV17uAm0ejV76XfCFs2NoVim+6/3R+8PvAexAy8SLh1qIz6yogBR3KSq9HVvgtScuNMCVABHz00G8NDLIP/O6vY9x+8+/Ymp1cX3nhnZYPPS8+GOYNCqOx24Pvrl+1UtnILK4HR18PPlcCGCtHIxMleLf+vrTdit4sM6O4dVCZYYZ6/ptBKsfFV3cpagYdoRyCEDu7CZ5Z8hwNJKogXgjBZZHHv3EKzuAuWauD0RL/vr5OOdnWbbjbeyjEEOcCOZbWIm0BcDY74IvfDyB5dCJw2+EQiEwsLc7hUXahsefYlkWTPetyz0v8Eenig2M8kDAs+rXsLoF14c1etSYRGLFO2kIBALB4C8OnLmJ68yPiKIIGFVOd1Y0hwp3qzVgx3fQ07zcFXoHKyqgF1mXe4Dash5y71ryuRBxGQAqPujilV6Mnd/+LExBZq7v2Se/HYlEwLFMeQawG79rDoiP/9Cz6tf/9y/bYOa50t/Bsuxj7dsymcyzP9k+PIH3anZzvtA7V4GGQCCQPHuBLPehD3m56/vCdvHxH0KXoYkbp7pDvm+sDrbD23jXHNi8cR/o4kBYaWRw2ys9hr0b5myCZdmKulVhUcP/mxTiDfePZpzKgfwI8bukvNvldBY5Ne+8n1QUyHlXsGAFKcQXjJVNU9Hopb38VrEjKYqi2yPpwvUBQ9xemy5clfOsiUJ8noxr5mITpmlq9uXcOlvYHhWLxRrlbWFrn0ttFOJz4RbN24QcoBBvwkGjJM+FAxTic+EWzduEHKAQb8JBoyTPhQMU4nPhFs3bhBygEG/CQaMkz4UDFOJz4RbN24QcqANxZ7TV5RyasAm5TUl+CBxwQ1xVVQi9mclk0uk0z/PL7ADWQ+ARbbKpOVADcU3TOI6TZRkMk+PxOMuy6XS6qXtIiX/EOVADcUVRRFFECCWTyUAgIEkSx3GapgGPotGoJEmPOL9o95uOAzUQJ9RP2vjwPE9uISHLcjOp5rf62C39zmOiru7U3uo7vvsTOLNa+7x6B2drbeu46sOFTYFFuoHQDKbpc2gxP5JMJu3zutgQFo7+zqH4PLPi0+Ezc3KeFc+3WA3ETdNUFEXX9dbWVtBPbAttvVAoSJK0zCIV3pbtyxGOHkeOlWXZPimKTba+GdpnD/B4xch8QtO08tmg/AgUz+Vy9pN6ELfzKIoCRazLPdte6Tny6ZAsy3DOGyFs9C7L8kcDxMK3TIOiKGXbmfyIpmmyLA8NnauUwofFAXnwkyzLdhMTyrtdmzfus/GBaQbbM2iCdMEwDE3TFEWplMK2eZDHBWIz1weuAe7Zvp9wE7ZVvHru9EcDV2/l8bFvR1/wr8AT6K8TUZDTwWrsTKoms91N9dxpXdc1TSN9B9hUKpyAAXLW42xlkdI1EE+lUoFAIJFIeDwewLrX69U0bTLCK1goLxIR9arF4y2KYiKRgL8145cf6du/qePt3qGhczs3tGNDAYRtpTrexn4jeju2gO06QPz+8HvfDO2zmX67bF1iW9xA5p0b4Hi+G+L56+df27w3k8mkUql9hz68ZxsRfuvrT0OjG7cmbuWxGcu2V3okSRIEwT7jX6Xhrd9vBtMHMEE63j/wxalXV710BgwswBzJzPXxwh+y2eyJw29ASETl3a5nnvwP3FPbHGZ4AjfxAn90aOgcaeJKf8dj7duy2exbv9/8An8UvAnsO/ShJEnboy87bdTNXF8kEsF21pbVY8dBH/nLz9e/+EdJkno7tvDCHzre7lXe7Qo+fxjM8pPJ5PH+gUwm4zJFLY0MdvI7oVS7eBJz0jbLON4/cOLwG2Dp/MWpV9fFDh3vH/jsH5+V58PRS538TugdWDlAaF+op2wXUm/gF/yZG+IMw7S2toZCIZ99ZTIZMN8UBCEajS548zNUaJqm7rhqj31OGIYBcCGmkJ38ThCThUIBi42KonJ/+L2KCTqxnx8nbhkrPoNcEMe+FnZlP7HJw6Flj10ctS73rH/xj7alFsK299lPyhb4ONM4yMhOfmdZYuVHEolE7suvvjj1ajn8571rv/nuBuxr4d61PWsEDVllOm0LICCeKCpgu/nZPz57bfNe6NT94fd++ZSoIQsIBruh7dGXhyfQ8S1ryuaktpCustShqBCIl23DbvV96+tPfzyBo52D/RSYxENZlycgsFm2f8KncBEaP3H4jcq7hKOTHrs4CgbI9ohgTp4dQ7k/JcqGdgg7HThw5qbDPBnzv2Edstqh+aVqII4Q0jTNNE3LslRVJagqFot4ykunFUWZXzPzKDUzxAuFgnK683urngz5voGP3tuWYJUJ0W7Nhvg926h2CsSxzbVyMBIMBr+36knbfKsW4g7DSoTwKHYrBetyD7GwzMtd+w59iEYvcRz3Ne+axDuDt/JYgX6GWcWybNC+wE4RIA7DCcLbutwDOCsWi3fNgR3f/QnLsjDhuCA+NHRuXewQvMnkxQAsAsT38ltzX36FPQWw7H/79sbk2Qs1HJge4nfNgeDzh+2ab594ZUf68/HBztVf864ByoPBXyTPXii3i3l5++C6J7xeb9kSGY3/+VfM6mA7ZPaveelvBjZA3vb2kN3NMsR7+LV+v79SYbDsjeO50LcZZtf7o4VC4aFBvC4WdV3nOC4ajS6hOj6jojJ6aXv05Y63e4cnsBMC3+vZu+ZA2b8P6cAMEB+91Pn0T2FI6ktx25lORTWqQhwUA2SLpSrcr5/HQZnXpsCXCIh5QoVj7DGpu/d0JxJY7CGE3WhhXejKPxEaqyvFAeJlvbYi+8HHixPidlsVG3Wni7bpIY7GJBfEHSKW0F6byI8o73b97F/DZ8eQy0wTbOxdEO/bv4m4KnBWVBoZ3MtvBU3P+Xzx0m4pXrelUqkE65u6vy79Q3AoA0JIORixDajKHn/wtH/9/LEPboCigmwpDka1COm7Od+u90eN4SMVsOri4z+sI8Vt/IHVMzHRty73VNavYwfXPXHs4uiNU90wX4MuhBD2V0F0hkwmcyvvFG94Pffav/9L4PsJ+zW4TVyy5OWuulJcQ1bn0z+FCq/0d4Aq75Lit/JIebcLlBnwQliVjnOBOJjHw+s0PHDS6Z2rNDIIxvAI6eB0oKos2Stdoo85pXjVVYFtTg/sAqkBVsk1E85iYqghiC8mAfOre7xv/yYwCz9x+A3uB3sNhJ09gAU+thXHohHDt108Cab4Pp9v49ZE129t/1VorIdfGwgEHmvfJhza/wJ/FKFaRQUTVW0CBsYYPsI/8/qmbU+DiT6yt/Y2PP5UMBj0r3kJQOakAUo5pThC44Nvrve9noXRBTP41cH2HV29e/mtOH9+5M+/Yn701tW75sAvnxLxm3Dvmvj4D1mWXRc7ZDeB3QSUXWYSbepW3w/+5/8JBoPfDO2r3dMc//Doa99t3TY8gVy6uGN9UlZUYFbZ8PhTq4Pt+w59WFvPWM+LP2ZZ9nurniyr1/Zyn2XZ1cF2IMbRzSonB99cHwgEWJaFRSrY7bMsGwqV/XjNb+znWqpJIT7XbtL8jy4HKMQf3bF/RHpOIf6IDPSj200K8Ud37B+RnlOIPyID/eh2k0L80R37R6TnFOKPyEA/ut2kEH90x/4R6TmF+CMy0I9uN+tD3LIsWZaXOPLJozsItOeLyYH6EBdFEaKDN5OZz2KyidbdvByoA3FRFHmez+Vy4XCY2iY379BSyoEDdSCuqipEtdN1bNJGOUU50NQccENc1/WEfUFg33g8Xhvwsqk7S4l/FDlQA3Fd10OhkCRJ6XSaYRgIUNi8ugpZSJDEUo7wUjbqdGC2lH1sirZqIC7LMgBaFEWWZSEMJ7H0icfjuVyuKXqFibzVt+qlM/ftc+TEQqdx4p22jDOU+qTj32zj6EqWSvRuCKK5VKf+sYUUHFiv0EH/VzlQA3HLwjazCKFwOMzzvEsOSZK0nFTz8Y+PHcWBWD+4UVal7NCs6XTaHuyxK/0d5YCD+ZGPBrCJvqqqQ0Pn0un08f4BwzDUc6crmTE7bpzqhki2YJrQw699rH0bmDXkr5+HALdVGI1ewk/+evnwziccAWknzFwfmBTcQQi8U+Svn/9o4CqEyc19+RUkoFowUAJ6pr4MZq4vlUol3hmsWCdghxapVOp4/wBkBscPqVQKqiVmFs48KD8CpZbYr0MVX8sgVQNx0zRtPyR6W1sbiPNUKqUoimEYoiimUqklJBh7t+E4LmJf0Wi0NnZeOeyvpmknDr+BTVFsE5hjH9wYGjq3Pfpy7suv8jJ2n3Arj2P+fjO0D6FxCPWrqurxLWvWxQ59NHBVOd1J/DT4Xs9qmgbeV4Yn0JX+jrI1ru1QAWdWFEEQMMrvXdu5of3YBzdunOpe9f3/5YA49gkBwcVJ5NiRv/z8sfZtuLgdfDX918tmrg8serAVzJ7uXC6nnjvtipx2f/i9jVsT2F/Ku13t4sn7CCmnO/cd+lBV1ROH3wBDm8HO1e3iSXiRwKgHSqmqeuNUN1hk5/6USJ69oKpqb8eWpfTrsIQ4mb2pGognk0mv1ysIQktLiyRJmqa1traappnJZGKxGMuys9e3JDnuD7+3LnbINE0wYt8c2PPZPz4DC9/qzFPrZAKhagRxsJ+37RR1MGIHqi3LumsO/Oa7Gz62HZiAERdoLPb0hQ2KD5y5CQ4VwESyGqAZqrDfB2yQVrE6q1p8VVyjIDRxfMuaYxdHTxx+49jFUfv7GrbjJC4ZwNqX3dJ/B6GyIWYlDi3OPHqJf+b1s2PY0UWlyEQPv/bIp0NgS1+0r8HO1QfO3Ozbvyl59kKxWKwadC7JAC2rRmogns1mWZYNh8OiKAYCgVAoBLJc1/VYLDbVBdyi9mR44CT4W6rxumQ3aeb6wCUdb1/EE82mbU97Vv36yKdDeNautcB3QhyCwNcYsedHJEnq+m1k07anwcEIILtUKg2+uf6x9m3QEJbQF0cHO1cT/fuLU686pTgJbTwdxG2towzxHn5tJBIhNdc6ScPOWzY8/tSOrl6sZeVH4pw/Go2S/g5P1IF48rnQxq0JyMPzfObKP/PXz+/lt67/DnPgzE08oS3qgC3XymsgblmWpmm6rluWBd6wgOxCoRCLxTL2tVQdwV4ToEX4W9WDbaP69S/+0bbAd5GDXZ91/dYWbzNCvLwAtWXt8AQ6v/3ZXdlPQAmBCOIE4n37N1WEZbmtkb/8nARjH/nLz+cN8b5dO2th7eoLngouKL2/+e6GI58OVZ0QVXJNleIH1z2BXRFNufLXz584/EbFC8qUn1f6gxqIT9dZwzDA54uu69PlWdrn+sF15XVeaWTQNqEfI27KBt9cj0FpQxycTASfP+yS4gTinfxODVkH1z2R/nwc4sZ/h3nqY1sXB2Q7vC/gjYtjF0fvmgPgteKuORDyfcMF8d17uqdTVDYH9hApnv4cLyd8r2dtvmGZ7URnXu6C+PPg+U1DVt/+TeUn+RHoqQvi4JJq1UtnbAVs/Pz2Z49dHM39KQH9cvo5WtqRevitNQRxhJBlXw+fXkLBvWudT/8Uu56y15QITSinOzc8/hTxAIEQ9nbSLp4cGjq37ZUecFMGWxlmri/918v2JDCWSqWwVjMmgROFtwY/6tu1E7suGb0U5/wgrW+c6radSfyi7N0BIWP4CH7y/OEPj75W6xAH6+vwAoBXWPB1dr/ibBYgrhyMgG/O3J8SLMvCzk+tFoEXx/BTBfp6b8cWeAIT2pX+DuwuBl9Vx7ODnatZlg0EAkBV/vp5cLyxlK55yBAtk0SjEF8m5FIyKAfmygEK8blyjOZvMg5QiDfZgFFy58oBCvG5cozmbzIOUIg32YBRcufKAQrxuXKM5m8yDlCIN9mAUXLnygEK8blyjOZvMg5QiDfZgFFy58oBCvG5cozmbzIOUIg32YBRcufKAQrxuXKM5m8yDlCIN9mAUXLnygEK8blyjOZvMg78f/3L0BW6B7xJAAAAAElFTkSuQmCC)\n",
    "\n",
    "**Accuracy Plot:**\n",
    " This will show the accuracy values for the same models, although accuracy is not a typical metric for regression models."
   ]
  },
  {
   "cell_type": "code",
   "execution_count": 101,
   "metadata": {
    "colab": {
     "base_uri": "https://localhost:8080/",
     "height": 396
    },
    "id": "PYK4u55jEAi6",
    "outputId": "f4a14e67-c79b-4058-81a0-77aa964695bd"
   },
   "outputs": [
    {
     "data": {
      "image/png": "[encoded data removed]",
      "text/plain": [
       "<Figure size 1200x400 with 2 Axes>"
      ]
     },
     "metadata": {},
     "output_type": "display_data"
    }
   ],
   "source": [
    "import matplotlib.pyplot as plt\n",
    "#  RMSE values for the models\n",
    "rmse_values = [0.22,0.47,0.49,0.22]\n",
    "rmse_model_names = ['Linear', 'Lasso ', 'Logistic ','Ridge']\n",
    "\n",
    "# accuracy values for the models\n",
    "accuracy_values = [93.0,59.0,94.2,94.0]\n",
    "accuracy_model_names = ['Linear', 'Lasso', 'Logistic','Ridge']\n",
    "\n",
    "# For two subplots\n",
    "fig, ax = plt.subplots(1, 2, figsize=(12,4))\n",
    "\n",
    "# Plotting RMSE values\n",
    "ax[0].bar(rmse_model_names, rmse_values, color=['blue', 'green', 'pink','red'])\n",
    "ax[0].set_ylabel('RMSE')\n",
    "ax[0].set_title('RMSE of Linear, Lasso, Logistic,Ridge')\n",
    "\n",
    "# Plotting accuracy values\n",
    "ax[1].bar(accuracy_model_names, accuracy_values, color=['blue', 'green', 'pink','red'])\n",
    "ax[1].set_ylabel('Accuracy (%)')\n",
    "ax[1].set_title('Accuracy of Linear, Lasso,Logistic,Ridge')\n",
    "plt.tight_layout()\n",
    "plt.show()\n"
   ]
  },
  {
   "cell_type": "markdown",
   "metadata": {
    "id": "nGJvZ7YyFEh_"
   },
   "source": [
    "## Observation:\n",
    "\n",
    "**RMSE:**\n",
    "\n",
    "The RMSE (Root Mean Squared Error) values for four models—Linear, Lasso, Logistic, and Ridge—are shown on the left. The Linear and Lasso models have similar RMSE values (around 0.20), with the Lasso model performing slightly better, indicated by the green bar. The Logistic model has a higher RMSE, represented by the pink bar, while the Ridge model has the highest RMSE value, shown by the red bar. This suggests that the Ridge model might have more error in its predictions compared to the other models.\n",
    "\n",
    "**Accuracy:**\n",
    "\n",
    "The accuracy percentages of the four models—Linear, Lasso, Logistic, and Ridge—are displayed on the right. The Logistic model achieves the highest accuracy of approximately 90%, marked by the blue bar. Lasso follows with a slightly lower accuracy, represented by the green bar. The Logistic model has a modest accuracy, indicated by the pink bar, while the Ridge model has the lowest accuracy, represented by the red bar. This suggests that the Linear model outperforms the others in terms of predictive accuracy."
   ]
  },
  {
   "cell_type": "markdown",
   "metadata": {
    "id": "66-ikf9tFrgR"
   },
   "source": [
    "## Confusion Matrix\n",
    "\n",
    " Confusion matrix is a table used to evaluate the performance of a classification model. It compares the predicted labels with the actual labels, showing true positives, false positives, true negatives, and false negatives. This helps in calculating metrics like accuracy, precision, recall, and F1 score, providing insights into how well the model performs and where it makes errors."
   ]
  },
  {
   "cell_type": "markdown",
   "metadata": {
    "id": "TYPJZfsEQ1sn"
   },
   "source": [
    "\n",
    "\n",
    "True Positives (TP): Correctly predicted \"Stroke\" cases.\n",
    "\n",
    "True Negatives (TN): Correctly predicted \"No Stroke\" cases.\n",
    "\n",
    "False Positives (FP): Cases incorrectly predicted as \"Stroke\" (actual: \"No Stroke\").\n",
    "\n",
    "False Negatives (FN): Cases missed as \"Stroke\" (predicted as \"No Stroke\")."
   ]
  },
  {
   "cell_type": "code",
   "execution_count": 97,
   "metadata": {
    "colab": {
     "base_uri": "https://localhost:8080/",
     "height": 449
    },
    "id": "vCV6KXJEGXk8",
    "outputId": "70c302f5-fd06-4a55-fd8d-58fd701e2cc5"
   },
   "outputs": [
    {
     "data": {
      "image/png": "[encoded data removed]",
      "text/plain": [
       "<Figure size 640x480 with 2 Axes>"
      ]
     },
     "metadata": {},
     "output_type": "display_data"
    }
   ],
   "source": [
    "# Predict the values using the logistic regression model\n",
    "y_pred_log_reg = log_reg_model.predict(X_test)\n",
    "\n",
    "# Compute the confusion matrix\n",
    "conf_matrix = confusion_matrix(y_test, y_pred_log_reg)\n",
    "\n",
    "# Plot the confusion matrix\n",
    "disp = ConfusionMatrixDisplay(confusion_matrix=conf_matrix, display_labels=[\"No Stroke\", \"Stroke\"])\n",
    "disp.plot(cmap='Blues')\n",
    "\n",
    "plt.show()"
   ]
  },
  {
   "cell_type": "markdown",
   "metadata": {
    "id": "lxPb1K67Qq82"
   },
   "source": [
    "### Observation:\n",
    "\n",
    "The confusion matrix shows the model's performance in classifying stroke cases. It correctly identified 961 instances of \"No Stroke\" and 0 instances of \"Stroke.\" However, it misclassified 59 \"Stroke\" cases as \"No Stroke.\" This indicates a potential issue with the model's ability to detect positive cases."
   ]
  },
  {
   "cell_type": "markdown",
   "metadata": {
    "id": "3uvsd6wANpih"
   },
   "source": [
    "## F1 Score, Precision and Recall\n",
    "\n",
    "**Precision**: Out of all the times the model predicted \"yes,\" how many were correct. Focuses on avoiding false positives.\n",
    "\n",
    "**Recall**: Out of all the actual \"yes\" cases, how many the model correctly predicted. Focuses on avoiding false negatives.\n",
    "\n",
    "**F1 Score:** A balance between precision and recall, useful when both are equally important."
   ]
  },
  {
   "cell_type": "code",
   "execution_count": 98,
   "metadata": {
    "colab": {
     "base_uri": "https://localhost:8080/"
    },
    "id": "FWM8RIs9ynFA",
    "outputId": "8c7d7d7d-f821-4415-e51f-d5729212f59f"
   },
   "outputs": [
    {
     "name": "stdout",
     "output_type": "stream",
     "text": [
      "Precision: 0.0\n",
      "Recall: 0.0\n",
      "F1 Score: 0.0\n",
      "Accuracy: 0.9403131115459883\n"
     ]
    }
   ],
   "source": [
    "from sklearn.metrics import precision_score, recall_score, f1_score, accuracy_score, confusion_matrix, ConfusionMatrixDisplay\n",
    "\n",
    "# Predict the values using the logistic regression model, ensure X_test is the correct shape and size\n",
    "y_pred_log_reg = log_reg_model.predict(X_test)\n",
    "\n",
    "# Convert continuous predictions into binary predictions\n",
    "y_pred_class = (y_pred_log_reg >= 0.2).astype(int)  # Convert continuous predictions to binary (0 or 1)\n",
    "\n",
    "# Ensure y_pred_class and y_test have the same length\n",
    "y_pred_class = y_pred_class[:len(y_test)]  # Adjust length if needed\n",
    "\n",
    "# Calculate metrics\n",
    "precision = precision_score(y_test, y_pred_class)\n",
    "recall = recall_score(y_test, y_pred_class)\n",
    "f1 = f1_score(y_test, y_pred_class)\n",
    "accuracy = accuracy_score(y_test, y_pred_class)\n",
    "\n",
    "# Print results\n",
    "print(\"Precision:\", precision)\n",
    "print(\"Recall:\", recall)\n",
    "print(\"F1 Score:\", f1)\n",
    "print(\"Accuracy:\", accuracy)"
   ]
  },
  {
   "cell_type": "markdown",
   "metadata": {
    "id": "euYSo2eHXHae"
   },
   "source": [
    "## Precision Recall Curve"
   ]
  },
  {
   "cell_type": "code",
   "execution_count": 99,
   "metadata": {
    "colab": {
     "base_uri": "https://localhost:8080/",
     "height": 489
    },
    "id": "EmttqNx0Uhdl",
    "outputId": "696159cb-616b-4402-e01a-d9968c3b9a52"
   },
   "outputs": [
    {
     "data": {
      "image/png": "[encoded data removed]",
      "text/plain": [
       "<Figure size 800x600 with 1 Axes>"
      ]
     },
     "metadata": {},
     "output_type": "display_data"
    }
   ],
   "source": [
    "import matplotlib.pyplot as plt\n",
    "from sklearn.metrics import precision_recall_curve, average_precision_score\n",
    "\n",
    "# Assuming you already have true labels (y_test) and predicted probabilities (y_pred_proba)\n",
    "\n",
    "# Get predicted probabilities for the positive class (1)\n",
    "y_pred_proba = log_reg_model.sigmoid(np.dot(X_test, log_reg_model.weights) + log_reg_model.bias)\n",
    "\n",
    "# Calculate precision, recall, and thresholds\n",
    "precision, recall, thresholds = precision_recall_curve(y_test, y_pred_proba)\n",
    "\n",
    "# Calculate the average precision score\n",
    "average_precision = average_precision_score(y_test, y_pred_proba)\n",
    "\n",
    "# Plot the precision-recall curve\n",
    "plt.figure(figsize=(8, 6))\n",
    "plt.plot(recall, precision, marker='.', label=f'AP = {average_precision:.2f}')\n",
    "plt.xlabel('Recall')\n",
    "plt.ylabel('Precision')\n",
    "plt.title('Precision-Recall Curve')\n",
    "plt.legend()\n",
    "plt.grid()\n",
    "plt.show()\n"
   ]
  },
  {
   "cell_type": "markdown",
   "metadata": {
    "id": "0DO9YnRJYNX8"
   },
   "source": [
    "### Observation:\n",
    "\n",
    "The plot shows a precision-recall curve for a logistic regression model. The curve indicates good performance, as it lies significantly above the chance level (dashed line). The model achieves a high precision, meaning it correctly identifies true positive cases with a low false positive rate."
   ]
  },
  {
   "cell_type": "markdown",
   "metadata": {
    "id": "7I6bwFUVYlAT"
   },
   "source": [
    "#### IS ACCURACY A FACTOR FOR MODEL PERFORMANCE"
   ]
  },
  {
   "cell_type": "markdown",
   "metadata": {
    "id": "8guXpu-zXFjz"
   },
   "source": [
    "Accuracy alone is insufficient to predict especially if data is imbalanced where there are far fewer stroke cases than non-stroke cases..The stroke dataset has a clear imbalance, with 95.74% of cases being \"No Stroke\" and only 4.26% being \"Stroke.\" This means the model is more likely to predict \"No Stroke\" because it sees far more examples of this class. While it might achieve high accuracy, it will likely struggle to identify actual stroke cases, which is the minority class but the most critical to detect.\n"
   ]
  },
  {
   "cell_type": "markdown",
   "metadata": {
    "id": "CHyGnXQpYdpL"
   },
   "source": [
    "### Data Biased Or Not:\n",
    "\n",
    " The dataset is heavily imbalanced, with 95% of cases as Class 0 (No Stroke) and 4%\n",
    " as Class 1 (Stroke).\n",
    " This imbalance skews the model towards predicting the majority class (No Stroke),\n",
    " resulting in poor detection of the minority class (Stroke)"
   ]
  },
  {
   "cell_type": "code",
   "execution_count": 100,
   "metadata": {},
   "outputs": [
    {
     "data": {
      "text/plain": [
       "['model.sav']"
      ]
     },
     "execution_count": 100,
     "metadata": {},
     "output_type": "execute_result"
    }
   ],
   "source": [
    "import joblib\n",
    "\n",
    "joblib.dump(log_reg_model, \"model.sav\")"
   ]
  },
  {
   "cell_type": "code",
   "execution_count": null,
   "metadata": {},
   "outputs": [],
   "source": []
  }
 ],
 "metadata": {
  "colab": {
   "provenance": []
  },
  "kernelspec": {
   "display_name": "Python 3",
   "name": "python3"
  },
  "language_info": {
   "codemirror_mode": {
    "name": "ipython",
    "version": 3
   },
   "file_extension": ".py",
   "mimetype": "text/x-python",
   "name": "python",
   "nbconvert_exporter": "python",
   "pygments_lexer": "ipython3",
   "version": "3.12.8"
  }
 },
 "nbformat": 4,
 "nbformat_minor": 0
}
